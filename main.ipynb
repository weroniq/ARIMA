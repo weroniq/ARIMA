{
 "cells": [
  {
   "cell_type": "code",
   "execution_count": 2,
   "metadata": {},
   "outputs": [],
   "source": [
    "import os\n",
    "import pandas as pd\n",
    "import numpy as np\n",
    "import seaborn as sns\n",
    "#Pliki o zakażeniach są pobrane ze strony https://www.gov.pl/web/koronawirus/wykaz-zarazen-koronawirusem-sars-cov-2\n",
    "\n",
    "\n",
    "# Ścieżka do katalogu zawierającego pliki\n",
    "#w sciezce katalogu powinny byc dane: https://arcgis.com/sharing/rest/content/items/a8c562ead9c54e13a135b02e0d875ffb/data (archiwalne dane wojewodztw ze strony https://www.gov.pl/web/koronawirus/wykaz-zarazen-koronawirusem-sars-cov-2 rozpakowane)\n",
    "sciezka_katalogu = r'C:\\Users\\'\n",
    "#plik 2 to https://arcgis.com/sharing/rest/content/items/b03b454aed9b4154ba50df4ba9e1143b/data? czyli dane historyczne od początku trwania pandemii ze strony https://www.gov.pl/web/koronawirus/wykaz-zarazen-koronawirusem-sars-cov-2\n",
    "plik2=r'C:\\Users\\'"
   ]
  },
  {
   "cell_type": "markdown",
   "metadata": {},
   "source": [
    "Wczytanie danych o zakażeniach od  2020-11-23 do 2023-11-23"
   ]
  },
  {
   "cell_type": "code",
   "execution_count": 3,
   "metadata": {},
   "outputs": [
    {
     "name": "stdout",
     "output_type": "stream",
     "text": [
      "               wojewodztwo  liczba_przypadkow  liczba_na_10_tys_mieszkancow  \\\n",
      "0               CaĹ‚y kraj            10141.0                          2.64   \n",
      "1           dolnoĹ›lÄ…skie             1033.0                          3.56   \n",
      "2       kujawsko-pomorskie              529.0                          2.56   \n",
      "3                lubelskie              671.0                          3.19   \n",
      "4                 lubuskie              267.0                          2.64   \n",
      "...                    ...                ...                           ...   \n",
      "18627              śląskie                NaN                           NaN   \n",
      "18628       świętokrzyskie                NaN                           NaN   \n",
      "18629  warmińsko-mazurskie                NaN                           NaN   \n",
      "18630        wielkopolskie                NaN                           NaN   \n",
      "18631   zachodniopomorskie                NaN                           NaN   \n",
      "\n",
      "       zgony  zgony_w_wyniku_covid_bez_chorob_wspolistniejacych  \\\n",
      "0      540.0                                               55.0   \n",
      "1       51.0                                                1.0   \n",
      "2       17.0                                                0.0   \n",
      "3        8.0                                                2.0   \n",
      "4       14.0                                                5.0   \n",
      "...      ...                                                ...   \n",
      "18627    1.0                                                0.0   \n",
      "18628    0.0                                                0.0   \n",
      "18629    2.0                                                0.0   \n",
      "18630    1.0                                                0.0   \n",
      "18631    0.0                                                0.0   \n",
      "\n",
      "       zgony_w_wyniku_covid_i_chorob_wspolistniejacych  liczba_zlecen_poz  \\\n",
      "0                                                485.0            40085.0   \n",
      "1                                                 50.0             3060.0   \n",
      "2                                                 17.0             2982.0   \n",
      "3                                                  6.0             2216.0   \n",
      "4                                                  9.0             1199.0   \n",
      "...                                                ...                ...   \n",
      "18627                                              1.0              181.0   \n",
      "18628                                              0.0               45.0   \n",
      "18629                                              2.0               81.0   \n",
      "18630                                              1.0              115.0   \n",
      "18631                                              0.0               91.0   \n",
      "\n",
      "       liczba_osob_objetych_kwarantanna  liczba_wykonanych_testow  \\\n",
      "0                                348135                     47540   \n",
      "1                                 27474                      4161   \n",
      "2                                 20381                      2691   \n",
      "3                                 19016                      2280   \n",
      "4                                 10727                      1084   \n",
      "...                                 ...                       ...   \n",
      "18627                                 0                       404   \n",
      "18628                                 0                        96   \n",
      "18629                                 0                       215   \n",
      "18630                                 0                       269   \n",
      "18631                                 0                       226   \n",
      "\n",
      "       liczba_testow_z_wynikiem_pozytywnym  ...  teryt  stan_rekordu_na  \\\n",
      "0                                    11502  ...    t00       2020-11-23   \n",
      "1                                     1162  ...    t02       2020-11-23   \n",
      "2                                      603  ...    t04       2020-11-23   \n",
      "3                                      757  ...    t06       2020-11-23   \n",
      "4                                      305  ...    t08       2020-11-23   \n",
      "...                                    ...  ...    ...              ...   \n",
      "18627                                  171  ...    t24       2023-11-23   \n",
      "18628                                   76  ...    t26       2023-11-23   \n",
      "18629                                  141  ...    t28       2023-11-23   \n",
      "18630                                  181  ...    t30       2023-11-23   \n",
      "18631                                   81  ...    t32       2023-11-23   \n",
      "\n",
      "                                   NazwaPliku liczba_ozdrowiencow  \\\n",
      "0      20201124060000_rap_rcb_woj_eksport.csv                 NaN   \n",
      "1      20201124060000_rap_rcb_woj_eksport.csv                 NaN   \n",
      "2      20201124060000_rap_rcb_woj_eksport.csv                 NaN   \n",
      "3      20201124060000_rap_rcb_woj_eksport.csv                 NaN   \n",
      "4      20201124060000_rap_rcb_woj_eksport.csv                 NaN   \n",
      "...                                       ...                 ...   \n",
      "18627  20231124074512_rap_rcb_woj_eksport.csv                 0.0   \n",
      "18628  20231124074512_rap_rcb_woj_eksport.csv                 0.0   \n",
      "18629  20231124074512_rap_rcb_woj_eksport.csv                 0.0   \n",
      "18630  20231124074512_rap_rcb_woj_eksport.csv                 0.0   \n",
      "18631  20231124074512_rap_rcb_woj_eksport.csv                 0.0   \n",
      "\n",
      "      liczba_nowych_zakazen  liczba_ponownych_zakazen  \\\n",
      "0                       NaN                       NaN   \n",
      "1                       NaN                       NaN   \n",
      "2                       NaN                       NaN   \n",
      "3                       NaN                       NaN   \n",
      "4                       NaN                       NaN   \n",
      "...                     ...                       ...   \n",
      "18627                 103.0                      58.0   \n",
      "18628                  46.0                      26.0   \n",
      "18629                  88.0                      33.0   \n",
      "18630                 126.0                      51.0   \n",
      "18631                  46.0                      33.0   \n",
      "\n",
      "       liczba_wszystkich_zakazen  liczba_nowych_zakazen_na_10_tys_mieszkancow  \\\n",
      "0                            NaN                                          NaN   \n",
      "1                            NaN                                          NaN   \n",
      "2                            NaN                                          NaN   \n",
      "3                            NaN                                          NaN   \n",
      "4                            NaN                                          NaN   \n",
      "...                          ...                                          ...   \n",
      "18627                      161.0                                         0.23   \n",
      "18628                       72.0                                         0.37   \n",
      "18629                      121.0                                         0.62   \n",
      "18630                      177.0                                         0.36   \n",
      "18631                       79.0                                         0.27   \n",
      "\n",
      "       liczba_ponownych_zakazen_na_10_tys_mieszkancow  \\\n",
      "0                                                 NaN   \n",
      "1                                                 NaN   \n",
      "2                                                 NaN   \n",
      "3                                                 NaN   \n",
      "4                                                 NaN   \n",
      "...                                               ...   \n",
      "18627                                            0.13   \n",
      "18628                                            0.21   \n",
      "18629                                            0.23   \n",
      "18630                                            0.15   \n",
      "18631                                            0.19   \n",
      "\n",
      "       liczba_wszystkich_zakazen_na_10_tys_mieszkancow  \n",
      "0                                                  NaN  \n",
      "1                                                  NaN  \n",
      "2                                                  NaN  \n",
      "3                                                  NaN  \n",
      "4                                                  NaN  \n",
      "...                                                ...  \n",
      "18627                                             0.36  \n",
      "18628                                             0.59  \n",
      "18629                                             0.85  \n",
      "18630                                             0.51  \n",
      "18631                                             0.47  \n",
      "\n",
      "[18632 rows x 22 columns]\n"
     ]
    }
   ],
   "source": [
    "# Lista do przechowywania wczytanych ramek danych\n",
    "ramki_danych = []\n",
    "\n",
    "# Pętla po wszystkich plikach w katalogu\n",
    "for plik in os.listdir(sciezka_katalogu):\n",
    "    if plik.endswith('.csv'):\n",
    "        sciezka_pliku = os.path.join(sciezka_katalogu, plik)\n",
    "        \n",
    "        # Wczytanie ramki danych z aktualnego pliku\n",
    "        df = pd.read_csv(sciezka_pliku, sep=';', encoding='cp1250')\n",
    "        df['NazwaPliku'] = plik\n",
    "        \n",
    "        # Dodanie ramki danych do listy\n",
    "        ramki_danych.append(df)\n",
    "\n",
    "# Połączenie wszystkich ramek danych w jedną\n",
    "polaczona_ramka_danych = pd.concat(ramki_danych, ignore_index=True)\n",
    "\n",
    "#wyniki\n",
    "print(polaczona_ramka_danych)   "
   ]
  },
  {
   "cell_type": "markdown",
   "metadata": {},
   "source": [
    "Czyszczenie danych"
   ]
  },
  {
   "cell_type": "code",
   "execution_count": 4,
   "metadata": {},
   "outputs": [],
   "source": [
    "# Zamiana na poprawny zapis\n",
    "mapowanie_wartosci = {'CaĹ‚y kraj': 'Caly kraj', \"Cały kraj\": 'Caly kraj'} \n",
    "polaczona_ramka_danych.replace(mapowanie_wartosci, inplace=True)\n",
    "polaczona_ramka_danych['wojewodztwo'].unique()\n",
    "\n",
    "#Dodawanie do kolumny 'liczba_przypadkow' obserwacji 'liczba_wszystkich_zakazen' aby ujednolicic pliki\n",
    "polaczona_ramka_danych['liczba_przypadkow'] = polaczona_ramka_danych['liczba_przypadkow'].fillna(0)+polaczona_ramka_danych['liczba_wszystkich_zakazen'].fillna(0)\n",
    "\n",
    "#Wybór tylko obserwacji dla całego kraju\n",
    "przefiltrowane_dane= polaczona_ramka_danych.loc[polaczona_ramka_danych['wojewodztwo']=='Caly kraj'][['NazwaPliku', 'liczba_przypadkow']]\n",
    "\n",
    "\n"
   ]
  },
  {
   "cell_type": "markdown",
   "metadata": {},
   "source": []
  },
  {
   "cell_type": "code",
   "execution_count": 5,
   "metadata": {},
   "outputs": [],
   "source": [
    "# Stworzenie kolumn Miesiac, Rok, Dzien\n",
    "przefiltrowane_dane['Miesiac'] = przefiltrowane_dane['NazwaPliku'].str.slice(4,6)"
   ]
  },
  {
   "cell_type": "code",
   "execution_count": 6,
   "metadata": {},
   "outputs": [],
   "source": [
    "przefiltrowane_dane['Rok'] = przefiltrowane_dane['NazwaPliku'].str.slice(0,4)"
   ]
  },
  {
   "cell_type": "code",
   "execution_count": 7,
   "metadata": {},
   "outputs": [],
   "source": [
    "przefiltrowane_dane['Dzien'] = przefiltrowane_dane['NazwaPliku'].str.slice(6,8)"
   ]
  },
  {
   "cell_type": "code",
   "execution_count": 8,
   "metadata": {},
   "outputs": [],
   "source": [
    "przefiltrowane_dane['Data'] = przefiltrowane_dane['Dzien'].astype(str)+ '.' + przefiltrowane_dane['Miesiac'].astype(str) + \".\" + przefiltrowane_dane['Rok'].astype(str)"
   ]
  },
  {
   "cell_type": "code",
   "execution_count": 9,
   "metadata": {
    "scrolled": true
   },
   "outputs": [
    {
     "data": {
      "text/html": [
       "<div>\n",
       "<style scoped>\n",
       "    .dataframe tbody tr th:only-of-type {\n",
       "        vertical-align: middle;\n",
       "    }\n",
       "\n",
       "    .dataframe tbody tr th {\n",
       "        vertical-align: top;\n",
       "    }\n",
       "\n",
       "    .dataframe thead th {\n",
       "        text-align: right;\n",
       "    }\n",
       "</style>\n",
       "<table border=\"1\" class=\"dataframe\">\n",
       "  <thead>\n",
       "    <tr style=\"text-align: right;\">\n",
       "      <th></th>\n",
       "      <th>Data</th>\n",
       "      <th>liczba_przypadkow</th>\n",
       "    </tr>\n",
       "  </thead>\n",
       "  <tbody>\n",
       "    <tr>\n",
       "      <th>0</th>\n",
       "      <td>24.11.2020</td>\n",
       "      <td>10141.0</td>\n",
       "    </tr>\n",
       "    <tr>\n",
       "      <th>17</th>\n",
       "      <td>25.11.2020</td>\n",
       "      <td>15360.0</td>\n",
       "    </tr>\n",
       "    <tr>\n",
       "      <th>34</th>\n",
       "      <td>26.11.2020</td>\n",
       "      <td>16846.0</td>\n",
       "    </tr>\n",
       "    <tr>\n",
       "      <th>51</th>\n",
       "      <td>27.11.2020</td>\n",
       "      <td>17059.0</td>\n",
       "    </tr>\n",
       "    <tr>\n",
       "      <th>68</th>\n",
       "      <td>28.11.2020</td>\n",
       "      <td>15183.0</td>\n",
       "    </tr>\n",
       "    <tr>\n",
       "      <th>...</th>\n",
       "      <td>...</td>\n",
       "      <td>...</td>\n",
       "    </tr>\n",
       "    <tr>\n",
       "      <th>18547</th>\n",
       "      <td>20.11.2023</td>\n",
       "      <td>79.0</td>\n",
       "    </tr>\n",
       "    <tr>\n",
       "      <th>18564</th>\n",
       "      <td>21.11.2023</td>\n",
       "      <td>2361.0</td>\n",
       "    </tr>\n",
       "    <tr>\n",
       "      <th>18581</th>\n",
       "      <td>22.11.2023</td>\n",
       "      <td>1934.0</td>\n",
       "    </tr>\n",
       "    <tr>\n",
       "      <th>18598</th>\n",
       "      <td>23.11.2023</td>\n",
       "      <td>1590.0</td>\n",
       "    </tr>\n",
       "    <tr>\n",
       "      <th>18615</th>\n",
       "      <td>24.11.2023</td>\n",
       "      <td>1969.0</td>\n",
       "    </tr>\n",
       "  </tbody>\n",
       "</table>\n",
       "<p>1096 rows × 2 columns</p>\n",
       "</div>"
      ],
      "text/plain": [
       "             Data  liczba_przypadkow\n",
       "0      24.11.2020            10141.0\n",
       "17     25.11.2020            15360.0\n",
       "34     26.11.2020            16846.0\n",
       "51     27.11.2020            17059.0\n",
       "68     28.11.2020            15183.0\n",
       "...           ...                ...\n",
       "18547  20.11.2023               79.0\n",
       "18564  21.11.2023             2361.0\n",
       "18581  22.11.2023             1934.0\n",
       "18598  23.11.2023             1590.0\n",
       "18615  24.11.2023             1969.0\n",
       "\n",
       "[1096 rows x 2 columns]"
      ]
     },
     "execution_count": 9,
     "metadata": {},
     "output_type": "execute_result"
    }
   ],
   "source": [
    "df1= przefiltrowane_dane[['Data', 'liczba_przypadkow']]\n",
    "df1"
   ]
  },
  {
   "cell_type": "markdown",
   "metadata": {},
   "source": [
    "Wczytanie danych o zakażeniach z drugiego pliku od 03.03.2020 do 23.11.2020\t"
   ]
  },
  {
   "cell_type": "code",
   "execution_count": 10,
   "metadata": {},
   "outputs": [],
   "source": [
    "df2 = pd.read_csv(plik2, sep=';', encoding='cp1250')"
   ]
  },
  {
   "cell_type": "code",
   "execution_count": 11,
   "metadata": {},
   "outputs": [],
   "source": [
    "# Wybór tylko dwóch kolumn dla analizy\n",
    "df2=df2[['Data', 'Nowe przypadki']] "
   ]
  },
  {
   "cell_type": "code",
   "execution_count": 12,
   "metadata": {},
   "outputs": [],
   "source": [
    "df2 = df2.rename(columns={'Nowe przypadki': 'liczba_przypadkow'})"
   ]
  },
  {
   "cell_type": "code",
   "execution_count": 13,
   "metadata": {},
   "outputs": [
    {
     "data": {
      "text/html": [
       "<div>\n",
       "<style scoped>\n",
       "    .dataframe tbody tr th:only-of-type {\n",
       "        vertical-align: middle;\n",
       "    }\n",
       "\n",
       "    .dataframe tbody tr th {\n",
       "        vertical-align: top;\n",
       "    }\n",
       "\n",
       "    .dataframe thead th {\n",
       "        text-align: right;\n",
       "    }\n",
       "</style>\n",
       "<table border=\"1\" class=\"dataframe\">\n",
       "  <thead>\n",
       "    <tr style=\"text-align: right;\">\n",
       "      <th></th>\n",
       "      <th>Data</th>\n",
       "      <th>liczba_przypadkow</th>\n",
       "    </tr>\n",
       "  </thead>\n",
       "  <tbody>\n",
       "    <tr>\n",
       "      <th>0</th>\n",
       "      <td>03.03.2020</td>\n",
       "      <td>0</td>\n",
       "    </tr>\n",
       "    <tr>\n",
       "      <th>1</th>\n",
       "      <td>04.03.2020</td>\n",
       "      <td>1</td>\n",
       "    </tr>\n",
       "    <tr>\n",
       "      <th>2</th>\n",
       "      <td>05.03.2020</td>\n",
       "      <td>0</td>\n",
       "    </tr>\n",
       "    <tr>\n",
       "      <th>3</th>\n",
       "      <td>06.03.2020</td>\n",
       "      <td>4</td>\n",
       "    </tr>\n",
       "    <tr>\n",
       "      <th>4</th>\n",
       "      <td>07.03.2020</td>\n",
       "      <td>1</td>\n",
       "    </tr>\n",
       "    <tr>\n",
       "      <th>...</th>\n",
       "      <td>...</td>\n",
       "      <td>...</td>\n",
       "    </tr>\n",
       "    <tr>\n",
       "      <th>261</th>\n",
       "      <td>19.11.2020</td>\n",
       "      <td>23975</td>\n",
       "    </tr>\n",
       "    <tr>\n",
       "      <th>262</th>\n",
       "      <td>20.11.2020</td>\n",
       "      <td>22464</td>\n",
       "    </tr>\n",
       "    <tr>\n",
       "      <th>263</th>\n",
       "      <td>21.11.2020</td>\n",
       "      <td>24213</td>\n",
       "    </tr>\n",
       "    <tr>\n",
       "      <th>264</th>\n",
       "      <td>22.11.2020</td>\n",
       "      <td>17856</td>\n",
       "    </tr>\n",
       "    <tr>\n",
       "      <th>265</th>\n",
       "      <td>23.11.2020</td>\n",
       "      <td>15002</td>\n",
       "    </tr>\n",
       "  </tbody>\n",
       "</table>\n",
       "<p>266 rows × 2 columns</p>\n",
       "</div>"
      ],
      "text/plain": [
       "           Data  liczba_przypadkow\n",
       "0    03.03.2020                  0\n",
       "1    04.03.2020                  1\n",
       "2    05.03.2020                  0\n",
       "3    06.03.2020                  4\n",
       "4    07.03.2020                  1\n",
       "..          ...                ...\n",
       "261  19.11.2020              23975\n",
       "262  20.11.2020              22464\n",
       "263  21.11.2020              24213\n",
       "264  22.11.2020              17856\n",
       "265  23.11.2020              15002\n",
       "\n",
       "[266 rows x 2 columns]"
      ]
     },
     "execution_count": 13,
     "metadata": {},
     "output_type": "execute_result"
    }
   ],
   "source": [
    "df2['liczba_przypadkow'] = df2['liczba_przypadkow'].str.replace(' ', '').astype(int)\n",
    "df2"
   ]
  },
  {
   "cell_type": "code",
   "execution_count": 14,
   "metadata": {},
   "outputs": [
    {
     "data": {
      "text/html": [
       "<div>\n",
       "<style scoped>\n",
       "    .dataframe tbody tr th:only-of-type {\n",
       "        vertical-align: middle;\n",
       "    }\n",
       "\n",
       "    .dataframe tbody tr th {\n",
       "        vertical-align: top;\n",
       "    }\n",
       "\n",
       "    .dataframe thead th {\n",
       "        text-align: right;\n",
       "    }\n",
       "</style>\n",
       "<table border=\"1\" class=\"dataframe\">\n",
       "  <thead>\n",
       "    <tr style=\"text-align: right;\">\n",
       "      <th></th>\n",
       "      <th>Data</th>\n",
       "      <th>liczba_przypadkow</th>\n",
       "    </tr>\n",
       "  </thead>\n",
       "  <tbody>\n",
       "    <tr>\n",
       "      <th>0</th>\n",
       "      <td>24.11.2020</td>\n",
       "      <td>10141.0</td>\n",
       "    </tr>\n",
       "    <tr>\n",
       "      <th>1</th>\n",
       "      <td>25.11.2020</td>\n",
       "      <td>15360.0</td>\n",
       "    </tr>\n",
       "    <tr>\n",
       "      <th>2</th>\n",
       "      <td>26.11.2020</td>\n",
       "      <td>16846.0</td>\n",
       "    </tr>\n",
       "    <tr>\n",
       "      <th>3</th>\n",
       "      <td>27.11.2020</td>\n",
       "      <td>17059.0</td>\n",
       "    </tr>\n",
       "    <tr>\n",
       "      <th>4</th>\n",
       "      <td>28.11.2020</td>\n",
       "      <td>15183.0</td>\n",
       "    </tr>\n",
       "    <tr>\n",
       "      <th>...</th>\n",
       "      <td>...</td>\n",
       "      <td>...</td>\n",
       "    </tr>\n",
       "    <tr>\n",
       "      <th>1357</th>\n",
       "      <td>19.11.2020</td>\n",
       "      <td>23975.0</td>\n",
       "    </tr>\n",
       "    <tr>\n",
       "      <th>1358</th>\n",
       "      <td>20.11.2020</td>\n",
       "      <td>22464.0</td>\n",
       "    </tr>\n",
       "    <tr>\n",
       "      <th>1359</th>\n",
       "      <td>21.11.2020</td>\n",
       "      <td>24213.0</td>\n",
       "    </tr>\n",
       "    <tr>\n",
       "      <th>1360</th>\n",
       "      <td>22.11.2020</td>\n",
       "      <td>17856.0</td>\n",
       "    </tr>\n",
       "    <tr>\n",
       "      <th>1361</th>\n",
       "      <td>23.11.2020</td>\n",
       "      <td>15002.0</td>\n",
       "    </tr>\n",
       "  </tbody>\n",
       "</table>\n",
       "<p>1362 rows × 2 columns</p>\n",
       "</div>"
      ],
      "text/plain": [
       "            Data  liczba_przypadkow\n",
       "0     24.11.2020            10141.0\n",
       "1     25.11.2020            15360.0\n",
       "2     26.11.2020            16846.0\n",
       "3     27.11.2020            17059.0\n",
       "4     28.11.2020            15183.0\n",
       "...          ...                ...\n",
       "1357  19.11.2020            23975.0\n",
       "1358  20.11.2020            22464.0\n",
       "1359  21.11.2020            24213.0\n",
       "1360  22.11.2020            17856.0\n",
       "1361  23.11.2020            15002.0\n",
       "\n",
       "[1362 rows x 2 columns]"
      ]
     },
     "execution_count": 14,
     "metadata": {},
     "output_type": "execute_result"
    }
   ],
   "source": [
    "# Połącznie dwóch ramek danych\n",
    "df_razem = pd.concat([df1, df2], ignore_index=True)\n",
    "df_razem"
   ]
  },
  {
   "cell_type": "code",
   "execution_count": 15,
   "metadata": {},
   "outputs": [],
   "source": [
    "# Uporządkowanie danych dziennych w dane mięsięczne\n",
    "df_razem['Miesiac'] = df_razem['Data'].str.slice(3,5)"
   ]
  },
  {
   "cell_type": "code",
   "execution_count": 16,
   "metadata": {},
   "outputs": [],
   "source": [
    "df_razem['Rok'] = df_razem['Data'].str.slice(6,10)"
   ]
  },
  {
   "cell_type": "code",
   "execution_count": 17,
   "metadata": {},
   "outputs": [],
   "source": [
    "df_razem['mies_i_rok']= df_razem['Rok'].astype(str)+ '-' + (df_razem['Miesiac'].astype(str))"
   ]
  },
  {
   "cell_type": "code",
   "execution_count": 18,
   "metadata": {},
   "outputs": [],
   "source": [
    "dane_zagregowane = df_razem.groupby('mies_i_rok')['liczba_przypadkow'].sum()"
   ]
  },
  {
   "cell_type": "code",
   "execution_count": 19,
   "metadata": {},
   "outputs": [],
   "source": [
    "dane_zagregowane = pd.DataFrame(dane_zagregowane)"
   ]
  },
  {
   "cell_type": "code",
   "execution_count": 20,
   "metadata": {},
   "outputs": [
    {
     "data": {
      "text/html": [
       "<div>\n",
       "<style scoped>\n",
       "    .dataframe tbody tr th:only-of-type {\n",
       "        vertical-align: middle;\n",
       "    }\n",
       "\n",
       "    .dataframe tbody tr th {\n",
       "        vertical-align: top;\n",
       "    }\n",
       "\n",
       "    .dataframe thead th {\n",
       "        text-align: right;\n",
       "    }\n",
       "</style>\n",
       "<table border=\"1\" class=\"dataframe\">\n",
       "  <thead>\n",
       "    <tr style=\"text-align: right;\">\n",
       "      <th></th>\n",
       "      <th>liczba_przypadkow</th>\n",
       "    </tr>\n",
       "    <tr>\n",
       "      <th>mies_i_rok</th>\n",
       "      <th></th>\n",
       "    </tr>\n",
       "  </thead>\n",
       "  <tbody>\n",
       "    <tr>\n",
       "      <th>2020-03</th>\n",
       "      <td>2311.0</td>\n",
       "    </tr>\n",
       "    <tr>\n",
       "      <th>2020-04</th>\n",
       "      <td>10566.0</td>\n",
       "    </tr>\n",
       "    <tr>\n",
       "      <th>2020-05</th>\n",
       "      <td>10909.0</td>\n",
       "    </tr>\n",
       "    <tr>\n",
       "      <th>2020-06</th>\n",
       "      <td>10607.0</td>\n",
       "    </tr>\n",
       "    <tr>\n",
       "      <th>2020-07</th>\n",
       "      <td>11295.0</td>\n",
       "    </tr>\n",
       "    <tr>\n",
       "      <th>2020-08</th>\n",
       "      <td>21684.0</td>\n",
       "    </tr>\n",
       "    <tr>\n",
       "      <th>2020-09</th>\n",
       "      <td>24142.0</td>\n",
       "    </tr>\n",
       "    <tr>\n",
       "      <th>2020-10</th>\n",
       "      <td>271217.0</td>\n",
       "    </tr>\n",
       "    <tr>\n",
       "      <th>2020-11</th>\n",
       "      <td>605438.0</td>\n",
       "    </tr>\n",
       "    <tr>\n",
       "      <th>2020-12</th>\n",
       "      <td>304432.0</td>\n",
       "    </tr>\n",
       "    <tr>\n",
       "      <th>2021-01</th>\n",
       "      <td>218147.0</td>\n",
       "    </tr>\n",
       "    <tr>\n",
       "      <th>2021-02</th>\n",
       "      <td>193609.0</td>\n",
       "    </tr>\n",
       "    <tr>\n",
       "      <th>2021-03</th>\n",
       "      <td>613627.0</td>\n",
       "    </tr>\n",
       "    <tr>\n",
       "      <th>2021-04</th>\n",
       "      <td>470300.0</td>\n",
       "    </tr>\n",
       "    <tr>\n",
       "      <th>2021-05</th>\n",
       "      <td>80591.0</td>\n",
       "    </tr>\n",
       "    <tr>\n",
       "      <th>2021-06</th>\n",
       "      <td>7542.0</td>\n",
       "    </tr>\n",
       "    <tr>\n",
       "      <th>2021-07</th>\n",
       "      <td>3044.0</td>\n",
       "    </tr>\n",
       "    <tr>\n",
       "      <th>2021-08</th>\n",
       "      <td>5787.0</td>\n",
       "    </tr>\n",
       "    <tr>\n",
       "      <th>2021-09</th>\n",
       "      <td>18409.0</td>\n",
       "    </tr>\n",
       "    <tr>\n",
       "      <th>2021-10</th>\n",
       "      <td>118133.0</td>\n",
       "    </tr>\n",
       "    <tr>\n",
       "      <th>2021-11</th>\n",
       "      <td>514444.0</td>\n",
       "    </tr>\n",
       "    <tr>\n",
       "      <th>2021-12</th>\n",
       "      <td>568168.0</td>\n",
       "    </tr>\n",
       "    <tr>\n",
       "      <th>2022-01</th>\n",
       "      <td>777844.0</td>\n",
       "    </tr>\n",
       "    <tr>\n",
       "      <th>2022-02</th>\n",
       "      <td>779389.0</td>\n",
       "    </tr>\n",
       "    <tr>\n",
       "      <th>2022-03</th>\n",
       "      <td>295939.0</td>\n",
       "    </tr>\n",
       "    <tr>\n",
       "      <th>2022-04</th>\n",
       "      <td>33666.0</td>\n",
       "    </tr>\n",
       "    <tr>\n",
       "      <th>2022-05</th>\n",
       "      <td>11086.0</td>\n",
       "    </tr>\n",
       "    <tr>\n",
       "      <th>2022-06</th>\n",
       "      <td>7418.0</td>\n",
       "    </tr>\n",
       "    <tr>\n",
       "      <th>2022-07</th>\n",
       "      <td>54744.0</td>\n",
       "    </tr>\n",
       "    <tr>\n",
       "      <th>2022-08</th>\n",
       "      <td>107319.0</td>\n",
       "    </tr>\n",
       "    <tr>\n",
       "      <th>2022-09</th>\n",
       "      <td>116774.0</td>\n",
       "    </tr>\n",
       "    <tr>\n",
       "      <th>2022-10</th>\n",
       "      <td>46938.0</td>\n",
       "    </tr>\n",
       "    <tr>\n",
       "      <th>2022-11</th>\n",
       "      <td>12329.0</td>\n",
       "    </tr>\n",
       "    <tr>\n",
       "      <th>2022-12</th>\n",
       "      <td>15741.0</td>\n",
       "    </tr>\n",
       "    <tr>\n",
       "      <th>2023-01</th>\n",
       "      <td>10931.0</td>\n",
       "    </tr>\n",
       "    <tr>\n",
       "      <th>2023-02</th>\n",
       "      <td>40145.0</td>\n",
       "    </tr>\n",
       "    <tr>\n",
       "      <th>2023-03</th>\n",
       "      <td>76783.0</td>\n",
       "    </tr>\n",
       "    <tr>\n",
       "      <th>2023-04</th>\n",
       "      <td>17705.0</td>\n",
       "    </tr>\n",
       "    <tr>\n",
       "      <th>2023-05</th>\n",
       "      <td>3071.0</td>\n",
       "    </tr>\n",
       "    <tr>\n",
       "      <th>2023-06</th>\n",
       "      <td>940.0</td>\n",
       "    </tr>\n",
       "    <tr>\n",
       "      <th>2023-07</th>\n",
       "      <td>286.0</td>\n",
       "    </tr>\n",
       "    <tr>\n",
       "      <th>2023-08</th>\n",
       "      <td>908.0</td>\n",
       "    </tr>\n",
       "    <tr>\n",
       "      <th>2023-09</th>\n",
       "      <td>4235.0</td>\n",
       "    </tr>\n",
       "    <tr>\n",
       "      <th>2023-10</th>\n",
       "      <td>10765.0</td>\n",
       "    </tr>\n",
       "    <tr>\n",
       "      <th>2023-11</th>\n",
       "      <td>24724.0</td>\n",
       "    </tr>\n",
       "  </tbody>\n",
       "</table>\n",
       "</div>"
      ],
      "text/plain": [
       "            liczba_przypadkow\n",
       "mies_i_rok                   \n",
       "2020-03                2311.0\n",
       "2020-04               10566.0\n",
       "2020-05               10909.0\n",
       "2020-06               10607.0\n",
       "2020-07               11295.0\n",
       "2020-08               21684.0\n",
       "2020-09               24142.0\n",
       "2020-10              271217.0\n",
       "2020-11              605438.0\n",
       "2020-12              304432.0\n",
       "2021-01              218147.0\n",
       "2021-02              193609.0\n",
       "2021-03              613627.0\n",
       "2021-04              470300.0\n",
       "2021-05               80591.0\n",
       "2021-06                7542.0\n",
       "2021-07                3044.0\n",
       "2021-08                5787.0\n",
       "2021-09               18409.0\n",
       "2021-10              118133.0\n",
       "2021-11              514444.0\n",
       "2021-12              568168.0\n",
       "2022-01              777844.0\n",
       "2022-02              779389.0\n",
       "2022-03              295939.0\n",
       "2022-04               33666.0\n",
       "2022-05               11086.0\n",
       "2022-06                7418.0\n",
       "2022-07               54744.0\n",
       "2022-08              107319.0\n",
       "2022-09              116774.0\n",
       "2022-10               46938.0\n",
       "2022-11               12329.0\n",
       "2022-12               15741.0\n",
       "2023-01               10931.0\n",
       "2023-02               40145.0\n",
       "2023-03               76783.0\n",
       "2023-04               17705.0\n",
       "2023-05                3071.0\n",
       "2023-06                 940.0\n",
       "2023-07                 286.0\n",
       "2023-08                 908.0\n",
       "2023-09                4235.0\n",
       "2023-10               10765.0\n",
       "2023-11               24724.0"
      ]
     },
     "execution_count": 20,
     "metadata": {},
     "output_type": "execute_result"
    }
   ],
   "source": [
    "dane_zagregowane #dane mięsięczne"
   ]
  },
  {
   "cell_type": "code",
   "execution_count": 21,
   "metadata": {},
   "outputs": [
    {
     "data": {
      "text/html": [
       "<div>\n",
       "<style scoped>\n",
       "    .dataframe tbody tr th:only-of-type {\n",
       "        vertical-align: middle;\n",
       "    }\n",
       "\n",
       "    .dataframe tbody tr th {\n",
       "        vertical-align: top;\n",
       "    }\n",
       "\n",
       "    .dataframe thead th {\n",
       "        text-align: right;\n",
       "    }\n",
       "</style>\n",
       "<table border=\"1\" class=\"dataframe\">\n",
       "  <thead>\n",
       "    <tr style=\"text-align: right;\">\n",
       "      <th></th>\n",
       "      <th>Data</th>\n",
       "      <th>liczba_przypadkow</th>\n",
       "      <th>Miesiac</th>\n",
       "      <th>Rok</th>\n",
       "      <th>mies_i_rok</th>\n",
       "    </tr>\n",
       "  </thead>\n",
       "  <tbody>\n",
       "    <tr>\n",
       "      <th>0</th>\n",
       "      <td>24.11.2020</td>\n",
       "      <td>10141.0</td>\n",
       "      <td>11</td>\n",
       "      <td>2020</td>\n",
       "      <td>2020-11</td>\n",
       "    </tr>\n",
       "    <tr>\n",
       "      <th>1</th>\n",
       "      <td>25.11.2020</td>\n",
       "      <td>15360.0</td>\n",
       "      <td>11</td>\n",
       "      <td>2020</td>\n",
       "      <td>2020-11</td>\n",
       "    </tr>\n",
       "    <tr>\n",
       "      <th>2</th>\n",
       "      <td>26.11.2020</td>\n",
       "      <td>16846.0</td>\n",
       "      <td>11</td>\n",
       "      <td>2020</td>\n",
       "      <td>2020-11</td>\n",
       "    </tr>\n",
       "    <tr>\n",
       "      <th>3</th>\n",
       "      <td>27.11.2020</td>\n",
       "      <td>17059.0</td>\n",
       "      <td>11</td>\n",
       "      <td>2020</td>\n",
       "      <td>2020-11</td>\n",
       "    </tr>\n",
       "    <tr>\n",
       "      <th>4</th>\n",
       "      <td>28.11.2020</td>\n",
       "      <td>15183.0</td>\n",
       "      <td>11</td>\n",
       "      <td>2020</td>\n",
       "      <td>2020-11</td>\n",
       "    </tr>\n",
       "    <tr>\n",
       "      <th>...</th>\n",
       "      <td>...</td>\n",
       "      <td>...</td>\n",
       "      <td>...</td>\n",
       "      <td>...</td>\n",
       "      <td>...</td>\n",
       "    </tr>\n",
       "    <tr>\n",
       "      <th>1357</th>\n",
       "      <td>19.11.2020</td>\n",
       "      <td>23975.0</td>\n",
       "      <td>11</td>\n",
       "      <td>2020</td>\n",
       "      <td>2020-11</td>\n",
       "    </tr>\n",
       "    <tr>\n",
       "      <th>1358</th>\n",
       "      <td>20.11.2020</td>\n",
       "      <td>22464.0</td>\n",
       "      <td>11</td>\n",
       "      <td>2020</td>\n",
       "      <td>2020-11</td>\n",
       "    </tr>\n",
       "    <tr>\n",
       "      <th>1359</th>\n",
       "      <td>21.11.2020</td>\n",
       "      <td>24213.0</td>\n",
       "      <td>11</td>\n",
       "      <td>2020</td>\n",
       "      <td>2020-11</td>\n",
       "    </tr>\n",
       "    <tr>\n",
       "      <th>1360</th>\n",
       "      <td>22.11.2020</td>\n",
       "      <td>17856.0</td>\n",
       "      <td>11</td>\n",
       "      <td>2020</td>\n",
       "      <td>2020-11</td>\n",
       "    </tr>\n",
       "    <tr>\n",
       "      <th>1361</th>\n",
       "      <td>23.11.2020</td>\n",
       "      <td>15002.0</td>\n",
       "      <td>11</td>\n",
       "      <td>2020</td>\n",
       "      <td>2020-11</td>\n",
       "    </tr>\n",
       "  </tbody>\n",
       "</table>\n",
       "<p>1362 rows × 5 columns</p>\n",
       "</div>"
      ],
      "text/plain": [
       "            Data  liczba_przypadkow Miesiac   Rok mies_i_rok\n",
       "0     24.11.2020            10141.0      11  2020    2020-11\n",
       "1     25.11.2020            15360.0      11  2020    2020-11\n",
       "2     26.11.2020            16846.0      11  2020    2020-11\n",
       "3     27.11.2020            17059.0      11  2020    2020-11\n",
       "4     28.11.2020            15183.0      11  2020    2020-11\n",
       "...          ...                ...     ...   ...        ...\n",
       "1357  19.11.2020            23975.0      11  2020    2020-11\n",
       "1358  20.11.2020            22464.0      11  2020    2020-11\n",
       "1359  21.11.2020            24213.0      11  2020    2020-11\n",
       "1360  22.11.2020            17856.0      11  2020    2020-11\n",
       "1361  23.11.2020            15002.0      11  2020    2020-11\n",
       "\n",
       "[1362 rows x 5 columns]"
      ]
     },
     "execution_count": 21,
     "metadata": {},
     "output_type": "execute_result"
    }
   ],
   "source": [
    "df_razem #dane dzienne"
   ]
  },
  {
   "cell_type": "code",
   "execution_count": 22,
   "metadata": {},
   "outputs": [],
   "source": [
    "# konwersja daty w formacie dzień-miesiąc-rok\n",
    "from datetime import datetime\n",
    "df_razem['Data'] = df_razem['Data'].apply(lambda x: datetime.strptime(x, \"%d.%m.%Y\"))"
   ]
  },
  {
   "cell_type": "code",
   "execution_count": 23,
   "metadata": {},
   "outputs": [
    {
     "data": {
      "text/plain": [
       "[<matplotlib.lines.Line2D at 0x208103b6d00>]"
      ]
     },
     "execution_count": 23,
     "metadata": {},
     "output_type": "execute_result"
    },
    {
     "data": {
      "image/png": "[encoded data removed]",
      "text/plain": [
       "<Figure size 720x432 with 1 Axes>"
      ]
     },
     "metadata": {
      "needs_background": "light"
     },
     "output_type": "display_data"
    }
   ],
   "source": [
    "# Przedstawienie dziennych liczba_przypadkow według czasu\n",
    "\n",
    "df_razem = pd.DataFrame(df_razem)\n",
    "df_razem.set_index('Data', inplace=True)  #ustawienie daty jako indeks do df_razem\n",
    "import matplotlib.pyplot as plt\n",
    "plt.figure(figsize=(10, 6))\n",
    "plt.plot(df_razem.index, df_razem['liczba_przypadkow'], marker='o')\n"
   ]
  },
  {
   "cell_type": "code",
   "execution_count": 24,
   "metadata": {},
   "outputs": [],
   "source": [
    "#dane w podziale na miesiace"
   ]
  },
  {
   "cell_type": "code",
   "execution_count": 25,
   "metadata": {},
   "outputs": [],
   "source": [
    "dane_zagregowane['mies_i_rok'] = df_razem['mies_i_rok'].apply(lambda x: datetime.strptime(x, \"%Y-%m\"))"
   ]
  },
  {
   "cell_type": "code",
   "execution_count": 26,
   "metadata": {},
   "outputs": [
    {
     "data": {
      "text/plain": [
       "[<matplotlib.lines.Line2D at 0x208107de3a0>]"
      ]
     },
     "execution_count": 26,
     "metadata": {},
     "output_type": "execute_result"
    },
    {
     "data": {
      "image/png": "[encoded data removed]",
      "text/plain": [
       "<Figure size 720x432 with 1 Axes>"
      ]
     },
     "metadata": {
      "needs_background": "light"
     },
     "output_type": "display_data"
    }
   ],
   "source": [
    "# Przedstawienie miesięcznych liczba_przypadkow według czasu\n",
    "dane_zagregowane = pd.DataFrame(dane_zagregowane)\n",
    "df_razem.set_index('mies_i_rok', inplace=True)\n",
    "plt.figure(figsize=(10, 6))\n",
    "plt.plot(dane_zagregowane.index, dane_zagregowane['liczba_przypadkow'], marker='o')"
   ]
  },
  {
   "cell_type": "code",
   "execution_count": 27,
   "metadata": {},
   "outputs": [],
   "source": [
    "# Logarytmowanie zmiennej liczba_przypadkow \n",
    "#logarytmujemy aby zobaczyc czy ujednolici nam to wariancje\n",
    "dane_zagregowane['log_l_przypadkow'] = np.log(dane_zagregowane['liczba_przypadkow'])"
   ]
  },
  {
   "cell_type": "code",
   "execution_count": 28,
   "metadata": {},
   "outputs": [
    {
     "data": {
      "text/plain": [
       "[<matplotlib.lines.Line2D at 0x208105b2d30>]"
      ]
     },
     "execution_count": 28,
     "metadata": {},
     "output_type": "execute_result"
    },
    {
     "data": {
      "image/png": "[encoded data removed]",
      "text/plain": [
       "<Figure size 720x432 with 1 Axes>"
      ]
     },
     "metadata": {
      "needs_background": "light"
     },
     "output_type": "display_data"
    }
   ],
   "source": [
    "# Przedstawienie miesięcznych log_l_przypadkow według czasu\n",
    "plt.figure(figsize=(10, 6))\n",
    "plt.plot(dane_zagregowane.index, dane_zagregowane['log_l_przypadkow'], marker='o')"
   ]
  },
  {
   "cell_type": "code",
   "execution_count": 29,
   "metadata": {},
   "outputs": [
    {
     "data": {
      "text/plain": [
       "[<matplotlib.lines.Line2D at 0x2081075adf0>]"
      ]
     },
     "execution_count": 29,
     "metadata": {},
     "output_type": "execute_result"
    },
    {
     "data": {
      "image/png": "[encoded data removed]",
      "text/plain": [
       "<Figure size 720x432 with 1 Axes>"
      ]
     },
     "metadata": {
      "needs_background": "light"
     },
     "output_type": "display_data"
    }
   ],
   "source": [
    "#widzimy, że teraz dane bardziej oscylują wokół jakiejś średniej\n",
    "#sprawdzimy dane dla pierwszych roznic dla liczba_przypadkow\n",
    "\n",
    "dane_zagregowane_diff = dane_zagregowane.diff().dropna()\n",
    "plt.figure(figsize=(10, 6))\n",
    "plt.plot(dane_zagregowane_diff.index, dane_zagregowane_diff['liczba_przypadkow'], marker='o')"
   ]
  },
  {
   "cell_type": "code",
   "execution_count": 30,
   "metadata": {},
   "outputs": [],
   "source": [
    "#tym bardziej widzimy wartość średnią oraz odchylenia od tej wartości\n",
    "#testowanie to jest w celu oceny wizualnej stacjonarności szeregu czasowego\n",
    "#po ocenie wizualnej podejrzewamy że pierwsze różnice mogą być stacjonarne natomiast nie wiemy jak z logarytmem zmiennej"
   ]
  },
  {
   "cell_type": "code",
   "execution_count": 31,
   "metadata": {},
   "outputs": [
    {
     "data": {
      "text/plain": [
       "[<matplotlib.lines.Line2D at 0x2081058f6a0>]"
      ]
     },
     "execution_count": 31,
     "metadata": {},
     "output_type": "execute_result"
    },
    {
     "data": {
      "image/png": "[encoded data removed]",
      "text/plain": [
       "<Figure size 720x432 with 1 Axes>"
      ]
     },
     "metadata": {
      "needs_background": "light"
     },
     "output_type": "display_data"
    }
   ],
   "source": [
    "# różnice dla log_l_przypadkow\n",
    "plt.figure(figsize=(10, 6))\n",
    "plt.plot(dane_zagregowane_diff.index, dane_zagregowane_diff['log_l_przypadkow'], marker='o')"
   ]
  },
  {
   "cell_type": "code",
   "execution_count": 32,
   "metadata": {},
   "outputs": [],
   "source": [
    "msk = (dane_zagregowane.index < '2023-10')  #wybór dwóch ostatnich miesięcy do zbioru testowego\n",
    "#dzielimy zbior na treningowy i walidacyjny, jako walidacyjny chcemy wykorzystac ostatnie 2 miesiace jako ze metoda ARIMA\n",
    "#ktorej chcemy uzyc jest najlepsza w przypadku prognozowania krotkookresowego"
   ]
  },
  {
   "cell_type": "code",
   "execution_count": 33,
   "metadata": {},
   "outputs": [
    {
     "data": {
      "text/plain": [
       "array([ True,  True,  True,  True,  True,  True,  True,  True,  True,\n",
       "        True,  True,  True,  True,  True,  True,  True,  True,  True,\n",
       "        True,  True,  True,  True,  True,  True,  True,  True,  True,\n",
       "        True,  True,  True,  True,  True,  True,  True,  True,  True,\n",
       "        True,  True,  True,  True,  True,  True,  True, False, False])"
      ]
     },
     "execution_count": 33,
     "metadata": {},
     "output_type": "execute_result"
    }
   ],
   "source": [
    "msk"
   ]
  },
  {
   "cell_type": "code",
   "execution_count": 34,
   "metadata": {},
   "outputs": [],
   "source": [
    "# Podzielenie zbioru na testowy i uczący\n",
    "df_train = dane_zagregowane[msk].copy()\n",
    "df_test = dane_zagregowane[~msk].copy()"
   ]
  },
  {
   "cell_type": "code",
   "execution_count": 35,
   "metadata": {},
   "outputs": [
    {
     "data": {
      "text/html": [
       "<div>\n",
       "<style scoped>\n",
       "    .dataframe tbody tr th:only-of-type {\n",
       "        vertical-align: middle;\n",
       "    }\n",
       "\n",
       "    .dataframe tbody tr th {\n",
       "        vertical-align: top;\n",
       "    }\n",
       "\n",
       "    .dataframe thead th {\n",
       "        text-align: right;\n",
       "    }\n",
       "</style>\n",
       "<table border=\"1\" class=\"dataframe\">\n",
       "  <thead>\n",
       "    <tr style=\"text-align: right;\">\n",
       "      <th></th>\n",
       "      <th>liczba_przypadkow</th>\n",
       "      <th>mies_i_rok</th>\n",
       "      <th>log_l_przypadkow</th>\n",
       "    </tr>\n",
       "    <tr>\n",
       "      <th>mies_i_rok</th>\n",
       "      <th></th>\n",
       "      <th></th>\n",
       "      <th></th>\n",
       "    </tr>\n",
       "  </thead>\n",
       "  <tbody>\n",
       "    <tr>\n",
       "      <th>2020-03</th>\n",
       "      <td>2311.0</td>\n",
       "      <td>NaT</td>\n",
       "      <td>7.745436</td>\n",
       "    </tr>\n",
       "    <tr>\n",
       "      <th>2020-04</th>\n",
       "      <td>10566.0</td>\n",
       "      <td>NaT</td>\n",
       "      <td>9.265397</td>\n",
       "    </tr>\n",
       "    <tr>\n",
       "      <th>2020-05</th>\n",
       "      <td>10909.0</td>\n",
       "      <td>NaT</td>\n",
       "      <td>9.297343</td>\n",
       "    </tr>\n",
       "    <tr>\n",
       "      <th>2020-06</th>\n",
       "      <td>10607.0</td>\n",
       "      <td>NaT</td>\n",
       "      <td>9.269269</td>\n",
       "    </tr>\n",
       "    <tr>\n",
       "      <th>2020-07</th>\n",
       "      <td>11295.0</td>\n",
       "      <td>NaT</td>\n",
       "      <td>9.332115</td>\n",
       "    </tr>\n",
       "    <tr>\n",
       "      <th>2020-08</th>\n",
       "      <td>21684.0</td>\n",
       "      <td>NaT</td>\n",
       "      <td>9.984330</td>\n",
       "    </tr>\n",
       "    <tr>\n",
       "      <th>2020-09</th>\n",
       "      <td>24142.0</td>\n",
       "      <td>NaT</td>\n",
       "      <td>10.091708</td>\n",
       "    </tr>\n",
       "    <tr>\n",
       "      <th>2020-10</th>\n",
       "      <td>271217.0</td>\n",
       "      <td>NaT</td>\n",
       "      <td>12.510675</td>\n",
       "    </tr>\n",
       "    <tr>\n",
       "      <th>2020-11</th>\n",
       "      <td>605438.0</td>\n",
       "      <td>NaT</td>\n",
       "      <td>13.313707</td>\n",
       "    </tr>\n",
       "    <tr>\n",
       "      <th>2020-12</th>\n",
       "      <td>304432.0</td>\n",
       "      <td>NaT</td>\n",
       "      <td>12.626203</td>\n",
       "    </tr>\n",
       "    <tr>\n",
       "      <th>2021-01</th>\n",
       "      <td>218147.0</td>\n",
       "      <td>NaT</td>\n",
       "      <td>12.292924</td>\n",
       "    </tr>\n",
       "    <tr>\n",
       "      <th>2021-02</th>\n",
       "      <td>193609.0</td>\n",
       "      <td>NaT</td>\n",
       "      <td>12.173596</td>\n",
       "    </tr>\n",
       "    <tr>\n",
       "      <th>2021-03</th>\n",
       "      <td>613627.0</td>\n",
       "      <td>NaT</td>\n",
       "      <td>13.327143</td>\n",
       "    </tr>\n",
       "    <tr>\n",
       "      <th>2021-04</th>\n",
       "      <td>470300.0</td>\n",
       "      <td>NaT</td>\n",
       "      <td>13.061126</td>\n",
       "    </tr>\n",
       "    <tr>\n",
       "      <th>2021-05</th>\n",
       "      <td>80591.0</td>\n",
       "      <td>NaT</td>\n",
       "      <td>11.297142</td>\n",
       "    </tr>\n",
       "    <tr>\n",
       "      <th>2021-06</th>\n",
       "      <td>7542.0</td>\n",
       "      <td>NaT</td>\n",
       "      <td>8.928243</td>\n",
       "    </tr>\n",
       "    <tr>\n",
       "      <th>2021-07</th>\n",
       "      <td>3044.0</td>\n",
       "      <td>NaT</td>\n",
       "      <td>8.020928</td>\n",
       "    </tr>\n",
       "    <tr>\n",
       "      <th>2021-08</th>\n",
       "      <td>5787.0</td>\n",
       "      <td>NaT</td>\n",
       "      <td>8.663369</td>\n",
       "    </tr>\n",
       "    <tr>\n",
       "      <th>2021-09</th>\n",
       "      <td>18409.0</td>\n",
       "      <td>NaT</td>\n",
       "      <td>9.820595</td>\n",
       "    </tr>\n",
       "    <tr>\n",
       "      <th>2021-10</th>\n",
       "      <td>118133.0</td>\n",
       "      <td>NaT</td>\n",
       "      <td>11.679566</td>\n",
       "    </tr>\n",
       "    <tr>\n",
       "      <th>2021-11</th>\n",
       "      <td>514444.0</td>\n",
       "      <td>NaT</td>\n",
       "      <td>13.150842</td>\n",
       "    </tr>\n",
       "    <tr>\n",
       "      <th>2021-12</th>\n",
       "      <td>568168.0</td>\n",
       "      <td>NaT</td>\n",
       "      <td>13.250172</td>\n",
       "    </tr>\n",
       "    <tr>\n",
       "      <th>2022-01</th>\n",
       "      <td>777844.0</td>\n",
       "      <td>NaT</td>\n",
       "      <td>13.564281</td>\n",
       "    </tr>\n",
       "    <tr>\n",
       "      <th>2022-02</th>\n",
       "      <td>779389.0</td>\n",
       "      <td>NaT</td>\n",
       "      <td>13.566266</td>\n",
       "    </tr>\n",
       "    <tr>\n",
       "      <th>2022-03</th>\n",
       "      <td>295939.0</td>\n",
       "      <td>NaT</td>\n",
       "      <td>12.597909</td>\n",
       "    </tr>\n",
       "    <tr>\n",
       "      <th>2022-04</th>\n",
       "      <td>33666.0</td>\n",
       "      <td>NaT</td>\n",
       "      <td>10.424244</td>\n",
       "    </tr>\n",
       "    <tr>\n",
       "      <th>2022-05</th>\n",
       "      <td>11086.0</td>\n",
       "      <td>NaT</td>\n",
       "      <td>9.313438</td>\n",
       "    </tr>\n",
       "    <tr>\n",
       "      <th>2022-06</th>\n",
       "      <td>7418.0</td>\n",
       "      <td>NaT</td>\n",
       "      <td>8.911665</td>\n",
       "    </tr>\n",
       "    <tr>\n",
       "      <th>2022-07</th>\n",
       "      <td>54744.0</td>\n",
       "      <td>NaT</td>\n",
       "      <td>10.910423</td>\n",
       "    </tr>\n",
       "    <tr>\n",
       "      <th>2022-08</th>\n",
       "      <td>107319.0</td>\n",
       "      <td>NaT</td>\n",
       "      <td>11.583561</td>\n",
       "    </tr>\n",
       "    <tr>\n",
       "      <th>2022-09</th>\n",
       "      <td>116774.0</td>\n",
       "      <td>NaT</td>\n",
       "      <td>11.667996</td>\n",
       "    </tr>\n",
       "    <tr>\n",
       "      <th>2022-10</th>\n",
       "      <td>46938.0</td>\n",
       "      <td>NaT</td>\n",
       "      <td>10.756583</td>\n",
       "    </tr>\n",
       "    <tr>\n",
       "      <th>2022-11</th>\n",
       "      <td>12329.0</td>\n",
       "      <td>NaT</td>\n",
       "      <td>9.419709</td>\n",
       "    </tr>\n",
       "    <tr>\n",
       "      <th>2022-12</th>\n",
       "      <td>15741.0</td>\n",
       "      <td>NaT</td>\n",
       "      <td>9.664024</td>\n",
       "    </tr>\n",
       "    <tr>\n",
       "      <th>2023-01</th>\n",
       "      <td>10931.0</td>\n",
       "      <td>NaT</td>\n",
       "      <td>9.299358</td>\n",
       "    </tr>\n",
       "    <tr>\n",
       "      <th>2023-02</th>\n",
       "      <td>40145.0</td>\n",
       "      <td>NaT</td>\n",
       "      <td>10.600253</td>\n",
       "    </tr>\n",
       "    <tr>\n",
       "      <th>2023-03</th>\n",
       "      <td>76783.0</td>\n",
       "      <td>NaT</td>\n",
       "      <td>11.248739</td>\n",
       "    </tr>\n",
       "    <tr>\n",
       "      <th>2023-04</th>\n",
       "      <td>17705.0</td>\n",
       "      <td>NaT</td>\n",
       "      <td>9.781602</td>\n",
       "    </tr>\n",
       "    <tr>\n",
       "      <th>2023-05</th>\n",
       "      <td>3071.0</td>\n",
       "      <td>NaT</td>\n",
       "      <td>8.029759</td>\n",
       "    </tr>\n",
       "    <tr>\n",
       "      <th>2023-06</th>\n",
       "      <td>940.0</td>\n",
       "      <td>NaT</td>\n",
       "      <td>6.845880</td>\n",
       "    </tr>\n",
       "    <tr>\n",
       "      <th>2023-07</th>\n",
       "      <td>286.0</td>\n",
       "      <td>NaT</td>\n",
       "      <td>5.655992</td>\n",
       "    </tr>\n",
       "    <tr>\n",
       "      <th>2023-08</th>\n",
       "      <td>908.0</td>\n",
       "      <td>NaT</td>\n",
       "      <td>6.811244</td>\n",
       "    </tr>\n",
       "    <tr>\n",
       "      <th>2023-09</th>\n",
       "      <td>4235.0</td>\n",
       "      <td>NaT</td>\n",
       "      <td>8.351139</td>\n",
       "    </tr>\n",
       "  </tbody>\n",
       "</table>\n",
       "</div>"
      ],
      "text/plain": [
       "            liczba_przypadkow mies_i_rok  log_l_przypadkow\n",
       "mies_i_rok                                                \n",
       "2020-03                2311.0        NaT          7.745436\n",
       "2020-04               10566.0        NaT          9.265397\n",
       "2020-05               10909.0        NaT          9.297343\n",
       "2020-06               10607.0        NaT          9.269269\n",
       "2020-07               11295.0        NaT          9.332115\n",
       "2020-08               21684.0        NaT          9.984330\n",
       "2020-09               24142.0        NaT         10.091708\n",
       "2020-10              271217.0        NaT         12.510675\n",
       "2020-11              605438.0        NaT         13.313707\n",
       "2020-12              304432.0        NaT         12.626203\n",
       "2021-01              218147.0        NaT         12.292924\n",
       "2021-02              193609.0        NaT         12.173596\n",
       "2021-03              613627.0        NaT         13.327143\n",
       "2021-04              470300.0        NaT         13.061126\n",
       "2021-05               80591.0        NaT         11.297142\n",
       "2021-06                7542.0        NaT          8.928243\n",
       "2021-07                3044.0        NaT          8.020928\n",
       "2021-08                5787.0        NaT          8.663369\n",
       "2021-09               18409.0        NaT          9.820595\n",
       "2021-10              118133.0        NaT         11.679566\n",
       "2021-11              514444.0        NaT         13.150842\n",
       "2021-12              568168.0        NaT         13.250172\n",
       "2022-01              777844.0        NaT         13.564281\n",
       "2022-02              779389.0        NaT         13.566266\n",
       "2022-03              295939.0        NaT         12.597909\n",
       "2022-04               33666.0        NaT         10.424244\n",
       "2022-05               11086.0        NaT          9.313438\n",
       "2022-06                7418.0        NaT          8.911665\n",
       "2022-07               54744.0        NaT         10.910423\n",
       "2022-08              107319.0        NaT         11.583561\n",
       "2022-09              116774.0        NaT         11.667996\n",
       "2022-10               46938.0        NaT         10.756583\n",
       "2022-11               12329.0        NaT          9.419709\n",
       "2022-12               15741.0        NaT          9.664024\n",
       "2023-01               10931.0        NaT          9.299358\n",
       "2023-02               40145.0        NaT         10.600253\n",
       "2023-03               76783.0        NaT         11.248739\n",
       "2023-04               17705.0        NaT          9.781602\n",
       "2023-05                3071.0        NaT          8.029759\n",
       "2023-06                 940.0        NaT          6.845880\n",
       "2023-07                 286.0        NaT          5.655992\n",
       "2023-08                 908.0        NaT          6.811244\n",
       "2023-09                4235.0        NaT          8.351139"
      ]
     },
     "execution_count": 35,
     "metadata": {},
     "output_type": "execute_result"
    }
   ],
   "source": [
    "df_train"
   ]
  },
  {
   "cell_type": "code",
   "execution_count": 36,
   "metadata": {},
   "outputs": [],
   "source": [
    "#test na stacjonarnosc"
   ]
  },
  {
   "cell_type": "code",
   "execution_count": 37,
   "metadata": {},
   "outputs": [
    {
     "name": "stdout",
     "output_type": "stream",
     "text": [
      "ADF Statistic: -3.647659\n",
      "p-value: 0.004913\n"
     ]
    }
   ],
   "source": [
    "from statsmodels.tsa.stattools import adfuller\n",
    "\n",
    "adf_test = adfuller(df_train['log_l_przypadkow'])\n",
    "# Output the results\n",
    "print('ADF Statistic: %f' % adf_test[0])\n",
    "print('p-value: %f' % adf_test[1])"
   ]
  },
  {
   "cell_type": "code",
   "execution_count": 38,
   "metadata": {},
   "outputs": [],
   "source": [
    "#test ADF mowi ze przy poziomie istotnosci 0.05, odrzucamy h0 o niestacjonarnosci d=0"
   ]
  },
  {
   "cell_type": "code",
   "execution_count": 39,
   "metadata": {},
   "outputs": [
    {
     "name": "stdout",
     "output_type": "stream",
     "text": [
      "Statystyka testu KPSS: 0.249714505913124\n",
      "Wartość p-wartości: 0.1\n"
     ]
    },
    {
     "name": "stderr",
     "output_type": "stream",
     "text": [
      "C:\\Users\\veron\\anaconda3\\lib\\site-packages\\statsmodels\\tsa\\stattools.py:1661: FutureWarning: The behavior of using lags=None will change in the next release. Currently lags=None is the same as lags='legacy', and so a sample-size lag length is used. After the next release, the default will change to be the same as lags='auto' which uses an automatic lag length selection method. To silence this warning, either use 'auto' or 'legacy'\n",
      "  warn(msg, FutureWarning)\n",
      "C:\\Users\\veron\\anaconda3\\lib\\site-packages\\statsmodels\\tsa\\stattools.py:1687: InterpolationWarning: p-value is greater than the indicated p-value\n",
      "  warn(\"p-value is greater than the indicated p-value\", InterpolationWarning)\n"
     ]
    }
   ],
   "source": [
    "import pandas as pd\n",
    "from statsmodels.tsa.stattools import kpss\n",
    "wyniki_testu = kpss(df_train['log_l_przypadkow'])\n",
    "print(\"Statystyka testu KPSS:\", wyniki_testu[0])\n",
    "print(\"Wartość p-wartości:\", wyniki_testu[1])"
   ]
  },
  {
   "cell_type": "code",
   "execution_count": 40,
   "metadata": {},
   "outputs": [],
   "source": [
    "#Brak podstaw do odrzucenia hipotezy zerowej. Szereg czasowy może być stacjonarny."
   ]
  },
  {
   "cell_type": "code",
   "execution_count": 41,
   "metadata": {},
   "outputs": [
    {
     "data": {
      "image/png": "[encoded data removed]",
      "text/plain": [
       "<Figure size 432x288 with 1 Axes>"
      ]
     },
     "metadata": {
      "needs_background": "light"
     },
     "output_type": "display_data"
    }
   ],
   "source": [
    "from statsmodels.graphics.tsaplots import plot_acf, plot_pacf\n",
    "\n",
    "acf_original = plot_acf(df_train['log_l_przypadkow'], lags=12)"
   ]
  },
  {
   "cell_type": "code",
   "execution_count": 42,
   "metadata": {},
   "outputs": [],
   "source": [
    "# widoczne istotne statystycznie sa 2 opoznienia: nie uwidacznia sie tutaj rowniez sezonowosc. Przeslanki do uzycia modelu AR(2)"
   ]
  },
  {
   "cell_type": "code",
   "execution_count": 43,
   "metadata": {},
   "outputs": [
    {
     "data": {
      "image/png": "[encoded data removed]",
      "text/plain": [
       "<Figure size 432x288 with 1 Axes>"
      ]
     },
     "metadata": {
      "needs_background": "light"
     },
     "output_type": "display_data"
    }
   ],
   "source": [
    "pacf_original = plot_pacf(df_train['log_l_przypadkow'], lags=12)"
   ]
  },
  {
   "cell_type": "code",
   "execution_count": 44,
   "metadata": {},
   "outputs": [],
   "source": [
    "# w tym przypadku sa przeslanki aby uzyc MA(2)"
   ]
  },
  {
   "cell_type": "code",
   "execution_count": 45,
   "metadata": {},
   "outputs": [],
   "source": [
    "#Decydujemy sie sprawdzic modele z max p=2 i max q=2"
   ]
  },
  {
   "cell_type": "markdown",
   "metadata": {},
   "source": [
    "Budowa modelu ARIMA"
   ]
  },
  {
   "cell_type": "code",
   "execution_count": 46,
   "metadata": {},
   "outputs": [],
   "source": [
    "#Model ARIMA to model szeregów czasowych, AR odpowiada za czesc autoregresji natomiast MA za czesc moving average\n",
    "#I oznacza integration- zintegrowanie zmiennej tzn. przy obliczaniu ilu roznic zmienna bedzie stacjonarna"
   ]
  },
  {
   "cell_type": "code",
   "execution_count": 47,
   "metadata": {},
   "outputs": [],
   "source": [
    "from statsmodels.tsa.arima.model import ARIMA\n",
    "\n",
    "def wybor_modelu_ARIMA(maxp, maxd, maxq, zmienna):\n",
    "    \"\"\"\n",
    "    Dokonuje wyboru modelu ARIMA na podstawie wartości AIC i BIC dla różnych parametrów.\n",
    "\n",
    "    Parametry:\n",
    "    maxp (int): Maksymalna wartość parametru AR(p).\n",
    "    maxd (int): Maksymalna wartość parametru różnicowania.\n",
    "    maxq (int): Maksymalna wartość parametru MA(q).\n",
    "    zmienna (str): Nazwa zmiennej/kolumny z ramki danych.\n",
    "\n",
    "    Zwraca:\n",
    "    pandas.DataFrame: DataFrame zawierający parametry modelu, wartości AIC, BIC, p, d i q.\n",
    "    \"\"\"\n",
    "    output=pd.DataFrame(columns=['parametry', 'wartoscAIC', 'wartoscBIC', 'p', 'd', 'q'])\n",
    "    for p in range(maxp+1):\n",
    "        for q in range(maxq+1):\n",
    "            for d in range(maxd+1):\n",
    "                model = ARIMA(df_train[zmienna], order=(p, d, q))\n",
    "                model_fit = model.fit()\n",
    "                nazwa_parametru= 'ARIMA('+str(p)+','+str(d)+','+str(q)+')'\n",
    "                nowy_wiersz = {'parametry': nazwa_parametru, 'wartoscAIC': model_fit.aic, 'wartoscBIC': model_fit.bic, 'p': p, 'd':d, 'q':q}\n",
    "                output = output.append(nowy_wiersz, ignore_index=True)\n",
    "    \n",
    "    return output\n"
   ]
  },
  {
   "cell_type": "code",
   "execution_count": 48,
   "metadata": {},
   "outputs": [],
   "source": [
    "#tworzymy funkcje ktora szacuje nam tyle modeli ile parametrow podamy i oceniamy je wzgledem kryteriow AIC i BIC"
   ]
  },
  {
   "cell_type": "code",
   "execution_count": 49,
   "metadata": {},
   "outputs": [
    {
     "name": "stderr",
     "output_type": "stream",
     "text": [
      "C:\\Users\\veron\\anaconda3\\lib\\site-packages\\statsmodels\\tsa\\base\\tsa_model.py:159: ValueWarning: No frequency information was provided, so inferred frequency MS will be used.\n",
      "  warnings.warn('No frequency information was'\n",
      "C:\\Users\\veron\\anaconda3\\lib\\site-packages\\statsmodels\\tsa\\base\\tsa_model.py:159: ValueWarning: No frequency information was provided, so inferred frequency MS will be used.\n",
      "  warnings.warn('No frequency information was'\n",
      "C:\\Users\\veron\\anaconda3\\lib\\site-packages\\statsmodels\\tsa\\base\\tsa_model.py:159: ValueWarning: No frequency information was provided, so inferred frequency MS will be used.\n",
      "  warnings.warn('No frequency information was'\n",
      "C:\\Users\\veron\\anaconda3\\lib\\site-packages\\statsmodels\\tsa\\base\\tsa_model.py:159: ValueWarning: No frequency information was provided, so inferred frequency MS will be used.\n",
      "  warnings.warn('No frequency information was'\n",
      "C:\\Users\\veron\\anaconda3\\lib\\site-packages\\statsmodels\\tsa\\base\\tsa_model.py:159: ValueWarning: No frequency information was provided, so inferred frequency MS will be used.\n",
      "  warnings.warn('No frequency information was'\n",
      "C:\\Users\\veron\\anaconda3\\lib\\site-packages\\statsmodels\\tsa\\base\\tsa_model.py:159: ValueWarning: No frequency information was provided, so inferred frequency MS will be used.\n",
      "  warnings.warn('No frequency information was'\n",
      "C:\\Users\\veron\\anaconda3\\lib\\site-packages\\statsmodels\\tsa\\base\\tsa_model.py:159: ValueWarning: No frequency information was provided, so inferred frequency MS will be used.\n",
      "  warnings.warn('No frequency information was'\n",
      "C:\\Users\\veron\\anaconda3\\lib\\site-packages\\statsmodels\\tsa\\base\\tsa_model.py:159: ValueWarning: No frequency information was provided, so inferred frequency MS will be used.\n",
      "  warnings.warn('No frequency information was'\n",
      "C:\\Users\\veron\\anaconda3\\lib\\site-packages\\statsmodels\\tsa\\base\\tsa_model.py:159: ValueWarning: No frequency information was provided, so inferred frequency MS will be used.\n",
      "  warnings.warn('No frequency information was'\n",
      "C:\\Users\\veron\\anaconda3\\lib\\site-packages\\statsmodels\\tsa\\statespace\\sarimax.py:975: UserWarning: Non-invertible starting MA parameters found. Using zeros as starting parameters.\n",
      "  warn('Non-invertible starting MA parameters found.'\n",
      "C:\\Users\\veron\\anaconda3\\lib\\site-packages\\statsmodels\\tsa\\base\\tsa_model.py:159: ValueWarning: No frequency information was provided, so inferred frequency MS will be used.\n",
      "  warnings.warn('No frequency information was'\n",
      "C:\\Users\\veron\\anaconda3\\lib\\site-packages\\statsmodels\\tsa\\base\\tsa_model.py:159: ValueWarning: No frequency information was provided, so inferred frequency MS will be used.\n",
      "  warnings.warn('No frequency information was'\n",
      "C:\\Users\\veron\\anaconda3\\lib\\site-packages\\statsmodels\\tsa\\base\\tsa_model.py:159: ValueWarning: No frequency information was provided, so inferred frequency MS will be used.\n",
      "  warnings.warn('No frequency information was'\n",
      "C:\\Users\\veron\\anaconda3\\lib\\site-packages\\statsmodels\\tsa\\base\\tsa_model.py:159: ValueWarning: No frequency information was provided, so inferred frequency MS will be used.\n",
      "  warnings.warn('No frequency information was'\n",
      "C:\\Users\\veron\\anaconda3\\lib\\site-packages\\statsmodels\\tsa\\base\\tsa_model.py:159: ValueWarning: No frequency information was provided, so inferred frequency MS will be used.\n",
      "  warnings.warn('No frequency information was'\n",
      "C:\\Users\\veron\\anaconda3\\lib\\site-packages\\statsmodels\\tsa\\base\\tsa_model.py:159: ValueWarning: No frequency information was provided, so inferred frequency MS will be used.\n",
      "  warnings.warn('No frequency information was'\n",
      "C:\\Users\\veron\\anaconda3\\lib\\site-packages\\statsmodels\\tsa\\base\\tsa_model.py:159: ValueWarning: No frequency information was provided, so inferred frequency MS will be used.\n",
      "  warnings.warn('No frequency information was'\n",
      "C:\\Users\\veron\\anaconda3\\lib\\site-packages\\statsmodels\\tsa\\base\\tsa_model.py:159: ValueWarning: No frequency information was provided, so inferred frequency MS will be used.\n",
      "  warnings.warn('No frequency information was'\n",
      "C:\\Users\\veron\\anaconda3\\lib\\site-packages\\statsmodels\\tsa\\base\\tsa_model.py:159: ValueWarning: No frequency information was provided, so inferred frequency MS will be used.\n",
      "  warnings.warn('No frequency information was'\n",
      "C:\\Users\\veron\\anaconda3\\lib\\site-packages\\statsmodels\\tsa\\base\\tsa_model.py:159: ValueWarning: No frequency information was provided, so inferred frequency MS will be used.\n",
      "  warnings.warn('No frequency information was'\n",
      "C:\\Users\\veron\\anaconda3\\lib\\site-packages\\statsmodels\\tsa\\base\\tsa_model.py:159: ValueWarning: No frequency information was provided, so inferred frequency MS will be used.\n",
      "  warnings.warn('No frequency information was'\n",
      "C:\\Users\\veron\\anaconda3\\lib\\site-packages\\statsmodels\\tsa\\base\\tsa_model.py:159: ValueWarning: No frequency information was provided, so inferred frequency MS will be used.\n",
      "  warnings.warn('No frequency information was'\n",
      "C:\\Users\\veron\\anaconda3\\lib\\site-packages\\statsmodels\\tsa\\base\\tsa_model.py:159: ValueWarning: No frequency information was provided, so inferred frequency MS will be used.\n",
      "  warnings.warn('No frequency information was'\n",
      "C:\\Users\\veron\\anaconda3\\lib\\site-packages\\statsmodels\\tsa\\base\\tsa_model.py:159: ValueWarning: No frequency information was provided, so inferred frequency MS will be used.\n",
      "  warnings.warn('No frequency information was'\n",
      "C:\\Users\\veron\\anaconda3\\lib\\site-packages\\statsmodels\\tsa\\base\\tsa_model.py:159: ValueWarning: No frequency information was provided, so inferred frequency MS will be used.\n",
      "  warnings.warn('No frequency information was'\n",
      "C:\\Users\\veron\\anaconda3\\lib\\site-packages\\statsmodels\\base\\model.py:567: ConvergenceWarning: Maximum Likelihood optimization failed to converge. Check mle_retvals\n",
      "  warn(\"Maximum Likelihood optimization failed to converge. \"\n",
      "C:\\Users\\veron\\anaconda3\\lib\\site-packages\\statsmodels\\tsa\\base\\tsa_model.py:159: ValueWarning: No frequency information was provided, so inferred frequency MS will be used.\n",
      "  warnings.warn('No frequency information was'\n",
      "C:\\Users\\veron\\anaconda3\\lib\\site-packages\\statsmodels\\tsa\\base\\tsa_model.py:159: ValueWarning: No frequency information was provided, so inferred frequency MS will be used.\n",
      "  warnings.warn('No frequency information was'\n",
      "C:\\Users\\veron\\anaconda3\\lib\\site-packages\\statsmodels\\tsa\\base\\tsa_model.py:159: ValueWarning: No frequency information was provided, so inferred frequency MS will be used.\n",
      "  warnings.warn('No frequency information was'\n",
      "C:\\Users\\veron\\anaconda3\\lib\\site-packages\\statsmodels\\tsa\\base\\tsa_model.py:159: ValueWarning: No frequency information was provided, so inferred frequency MS will be used.\n",
      "  warnings.warn('No frequency information was'\n",
      "C:\\Users\\veron\\anaconda3\\lib\\site-packages\\statsmodels\\tsa\\base\\tsa_model.py:159: ValueWarning: No frequency information was provided, so inferred frequency MS will be used.\n",
      "  warnings.warn('No frequency information was'\n",
      "C:\\Users\\veron\\anaconda3\\lib\\site-packages\\statsmodels\\tsa\\base\\tsa_model.py:159: ValueWarning: No frequency information was provided, so inferred frequency MS will be used.\n",
      "  warnings.warn('No frequency information was'\n",
      "C:\\Users\\veron\\anaconda3\\lib\\site-packages\\statsmodels\\tsa\\base\\tsa_model.py:159: ValueWarning: No frequency information was provided, so inferred frequency MS will be used.\n",
      "  warnings.warn('No frequency information was'\n",
      "C:\\Users\\veron\\anaconda3\\lib\\site-packages\\statsmodels\\tsa\\base\\tsa_model.py:159: ValueWarning: No frequency information was provided, so inferred frequency MS will be used.\n",
      "  warnings.warn('No frequency information was'\n",
      "C:\\Users\\veron\\anaconda3\\lib\\site-packages\\statsmodels\\tsa\\base\\tsa_model.py:159: ValueWarning: No frequency information was provided, so inferred frequency MS will be used.\n",
      "  warnings.warn('No frequency information was'\n",
      "C:\\Users\\veron\\anaconda3\\lib\\site-packages\\statsmodels\\tsa\\base\\tsa_model.py:159: ValueWarning: No frequency information was provided, so inferred frequency MS will be used.\n",
      "  warnings.warn('No frequency information was'\n",
      "C:\\Users\\veron\\anaconda3\\lib\\site-packages\\statsmodels\\tsa\\base\\tsa_model.py:159: ValueWarning: No frequency information was provided, so inferred frequency MS will be used.\n",
      "  warnings.warn('No frequency information was'\n",
      "C:\\Users\\veron\\anaconda3\\lib\\site-packages\\statsmodels\\tsa\\base\\tsa_model.py:159: ValueWarning: No frequency information was provided, so inferred frequency MS will be used.\n",
      "  warnings.warn('No frequency information was'\n",
      "C:\\Users\\veron\\anaconda3\\lib\\site-packages\\statsmodels\\tsa\\base\\tsa_model.py:159: ValueWarning: No frequency information was provided, so inferred frequency MS will be used.\n",
      "  warnings.warn('No frequency information was'\n",
      "C:\\Users\\veron\\anaconda3\\lib\\site-packages\\statsmodels\\tsa\\base\\tsa_model.py:159: ValueWarning: No frequency information was provided, so inferred frequency MS will be used.\n",
      "  warnings.warn('No frequency information was'\n",
      "C:\\Users\\veron\\anaconda3\\lib\\site-packages\\statsmodels\\tsa\\base\\tsa_model.py:159: ValueWarning: No frequency information was provided, so inferred frequency MS will be used.\n",
      "  warnings.warn('No frequency information was'\n",
      "C:\\Users\\veron\\anaconda3\\lib\\site-packages\\statsmodels\\tsa\\base\\tsa_model.py:159: ValueWarning: No frequency information was provided, so inferred frequency MS will be used.\n",
      "  warnings.warn('No frequency information was'\n",
      "C:\\Users\\veron\\anaconda3\\lib\\site-packages\\statsmodels\\tsa\\base\\tsa_model.py:159: ValueWarning: No frequency information was provided, so inferred frequency MS will be used.\n",
      "  warnings.warn('No frequency information was'\n",
      "C:\\Users\\veron\\anaconda3\\lib\\site-packages\\statsmodels\\tsa\\base\\tsa_model.py:159: ValueWarning: No frequency information was provided, so inferred frequency MS will be used.\n",
      "  warnings.warn('No frequency information was'\n",
      "C:\\Users\\veron\\anaconda3\\lib\\site-packages\\statsmodels\\tsa\\base\\tsa_model.py:159: ValueWarning: No frequency information was provided, so inferred frequency MS will be used.\n",
      "  warnings.warn('No frequency information was'\n",
      "C:\\Users\\veron\\anaconda3\\lib\\site-packages\\statsmodels\\tsa\\base\\tsa_model.py:159: ValueWarning: No frequency information was provided, so inferred frequency MS will be used.\n",
      "  warnings.warn('No frequency information was'\n",
      "C:\\Users\\veron\\anaconda3\\lib\\site-packages\\statsmodels\\tsa\\base\\tsa_model.py:159: ValueWarning: No frequency information was provided, so inferred frequency MS will be used.\n",
      "  warnings.warn('No frequency information was'\n"
     ]
    },
    {
     "name": "stderr",
     "output_type": "stream",
     "text": [
      "C:\\Users\\veron\\anaconda3\\lib\\site-packages\\statsmodels\\tsa\\base\\tsa_model.py:159: ValueWarning: No frequency information was provided, so inferred frequency MS will be used.\n",
      "  warnings.warn('No frequency information was'\n",
      "C:\\Users\\veron\\anaconda3\\lib\\site-packages\\statsmodels\\tsa\\base\\tsa_model.py:159: ValueWarning: No frequency information was provided, so inferred frequency MS will be used.\n",
      "  warnings.warn('No frequency information was'\n",
      "C:\\Users\\veron\\anaconda3\\lib\\site-packages\\statsmodels\\tsa\\base\\tsa_model.py:159: ValueWarning: No frequency information was provided, so inferred frequency MS will be used.\n",
      "  warnings.warn('No frequency information was'\n",
      "C:\\Users\\veron\\anaconda3\\lib\\site-packages\\statsmodels\\tsa\\base\\tsa_model.py:159: ValueWarning: No frequency information was provided, so inferred frequency MS will be used.\n",
      "  warnings.warn('No frequency information was'\n",
      "C:\\Users\\veron\\anaconda3\\lib\\site-packages\\statsmodels\\tsa\\base\\tsa_model.py:159: ValueWarning: No frequency information was provided, so inferred frequency MS will be used.\n",
      "  warnings.warn('No frequency information was'\n",
      "C:\\Users\\veron\\anaconda3\\lib\\site-packages\\statsmodels\\tsa\\base\\tsa_model.py:159: ValueWarning: No frequency information was provided, so inferred frequency MS will be used.\n",
      "  warnings.warn('No frequency information was'\n",
      "C:\\Users\\veron\\anaconda3\\lib\\site-packages\\statsmodels\\tsa\\base\\tsa_model.py:159: ValueWarning: No frequency information was provided, so inferred frequency MS will be used.\n",
      "  warnings.warn('No frequency information was'\n",
      "C:\\Users\\veron\\anaconda3\\lib\\site-packages\\statsmodels\\tsa\\base\\tsa_model.py:159: ValueWarning: No frequency information was provided, so inferred frequency MS will be used.\n",
      "  warnings.warn('No frequency information was'\n",
      "C:\\Users\\veron\\anaconda3\\lib\\site-packages\\statsmodels\\tsa\\base\\tsa_model.py:159: ValueWarning: No frequency information was provided, so inferred frequency MS will be used.\n",
      "  warnings.warn('No frequency information was'\n"
     ]
    }
   ],
   "source": [
    "podsumowanie=wybor_modelu_ARIMA(2,1,2, 'log_l_przypadkow')"
   ]
  },
  {
   "cell_type": "code",
   "execution_count": 50,
   "metadata": {},
   "outputs": [
    {
     "name": "stdout",
     "output_type": "stream",
     "text": [
      "       parametry  wartoscAIC  wartoscBIC  p  d  q\n",
      "0   ARIMA(0,0,0)  186.421681  189.944081  0  0  0\n",
      "1   ARIMA(0,1,0)  133.615082  135.352752  0  1  0\n",
      "2   ARIMA(0,0,1)  147.433365  152.716965  0  0  1\n",
      "3   ARIMA(0,1,1)  123.403112  126.878451  0  1  1\n",
      "4   ARIMA(0,0,2)  132.746199  139.790999  0  0  2\n",
      "5   ARIMA(0,1,2)  123.535014  128.748023  0  1  2\n",
      "6   ARIMA(1,0,0)  138.362978  143.646578  1  0  0\n",
      "7   ARIMA(1,1,0)  125.022911  128.498250  1  1  0\n",
      "8   ARIMA(1,0,1)  126.311407  133.356207  1  0  1\n",
      "9   ARIMA(1,1,1)  124.494329  129.707338  1  1  1\n",
      "10  ARIMA(1,0,2)  124.380157  133.186158  1  0  2\n",
      "11  ARIMA(1,1,2)  124.691089  131.641767  1  1  2\n",
      "12  ARIMA(2,0,0)  120.848892  127.893692  2  0  0\n",
      "13  ARIMA(2,1,0)  121.506734  126.719742  2  1  0\n",
      "14  ARIMA(2,0,1)  122.647562  131.453562  2  0  1\n",
      "15  ARIMA(2,1,1)  119.487752  126.438431  2  1  1\n",
      "16  ARIMA(2,0,2)  123.363518  133.930718  2  0  2\n",
      "17  ARIMA(2,1,2)  121.141752  129.830100  2  1  2\n"
     ]
    }
   ],
   "source": [
    "print(podsumowanie)"
   ]
  },
  {
   "cell_type": "code",
   "execution_count": 51,
   "metadata": {},
   "outputs": [
    {
     "data": {
      "text/html": [
       "<div>\n",
       "<style scoped>\n",
       "    .dataframe tbody tr th:only-of-type {\n",
       "        vertical-align: middle;\n",
       "    }\n",
       "\n",
       "    .dataframe tbody tr th {\n",
       "        vertical-align: top;\n",
       "    }\n",
       "\n",
       "    .dataframe thead th {\n",
       "        text-align: right;\n",
       "    }\n",
       "</style>\n",
       "<table border=\"1\" class=\"dataframe\">\n",
       "  <thead>\n",
       "    <tr style=\"text-align: right;\">\n",
       "      <th></th>\n",
       "      <th>parametry</th>\n",
       "      <th>wartoscAIC</th>\n",
       "      <th>wartoscBIC</th>\n",
       "      <th>p</th>\n",
       "      <th>d</th>\n",
       "      <th>q</th>\n",
       "    </tr>\n",
       "  </thead>\n",
       "  <tbody>\n",
       "    <tr>\n",
       "      <th>15</th>\n",
       "      <td>ARIMA(2,1,1)</td>\n",
       "      <td>119.487752</td>\n",
       "      <td>126.438431</td>\n",
       "      <td>2</td>\n",
       "      <td>1</td>\n",
       "      <td>1</td>\n",
       "    </tr>\n",
       "  </tbody>\n",
       "</table>\n",
       "</div>"
      ],
      "text/plain": [
       "       parametry  wartoscAIC  wartoscBIC  p  d  q\n",
       "15  ARIMA(2,1,1)  119.487752  126.438431  2  1  1"
      ]
     },
     "execution_count": 51,
     "metadata": {},
     "output_type": "execute_result"
    }
   ],
   "source": [
    "# Model z minimalnym AIC to ARIMA(2,1,1)\n",
    "podsumowanie[podsumowanie['wartoscAIC']==min(podsumowanie['wartoscAIC'])]"
   ]
  },
  {
   "cell_type": "code",
   "execution_count": 52,
   "metadata": {},
   "outputs": [
    {
     "data": {
      "text/html": [
       "<div>\n",
       "<style scoped>\n",
       "    .dataframe tbody tr th:only-of-type {\n",
       "        vertical-align: middle;\n",
       "    }\n",
       "\n",
       "    .dataframe tbody tr th {\n",
       "        vertical-align: top;\n",
       "    }\n",
       "\n",
       "    .dataframe thead th {\n",
       "        text-align: right;\n",
       "    }\n",
       "</style>\n",
       "<table border=\"1\" class=\"dataframe\">\n",
       "  <thead>\n",
       "    <tr style=\"text-align: right;\">\n",
       "      <th></th>\n",
       "      <th>parametry</th>\n",
       "      <th>wartoscAIC</th>\n",
       "      <th>wartoscBIC</th>\n",
       "      <th>p</th>\n",
       "      <th>d</th>\n",
       "      <th>q</th>\n",
       "    </tr>\n",
       "  </thead>\n",
       "  <tbody>\n",
       "    <tr>\n",
       "      <th>15</th>\n",
       "      <td>ARIMA(2,1,1)</td>\n",
       "      <td>119.487752</td>\n",
       "      <td>126.438431</td>\n",
       "      <td>2</td>\n",
       "      <td>1</td>\n",
       "      <td>1</td>\n",
       "    </tr>\n",
       "  </tbody>\n",
       "</table>\n",
       "</div>"
      ],
      "text/plain": [
       "       parametry  wartoscAIC  wartoscBIC  p  d  q\n",
       "15  ARIMA(2,1,1)  119.487752  126.438431  2  1  1"
      ]
     },
     "execution_count": 52,
     "metadata": {},
     "output_type": "execute_result"
    }
   ],
   "source": [
    "# Model z min BIC to ARIMA(2,1,1)\n",
    "podsumowanie[podsumowanie['wartoscBIC']==min(podsumowanie['wartoscBIC'])]"
   ]
  },
  {
   "cell_type": "code",
   "execution_count": 53,
   "metadata": {},
   "outputs": [],
   "source": [
    "#mimo, ze niestancjonarnosc nie wyszla w tescie DF, to model 2,1,1 jest najlepszy, spojrzmy jeszcze dla d=0"
   ]
  },
  {
   "cell_type": "code",
   "execution_count": 54,
   "metadata": {},
   "outputs": [
    {
     "data": {
      "text/html": [
       "<div>\n",
       "<style scoped>\n",
       "    .dataframe tbody tr th:only-of-type {\n",
       "        vertical-align: middle;\n",
       "    }\n",
       "\n",
       "    .dataframe tbody tr th {\n",
       "        vertical-align: top;\n",
       "    }\n",
       "\n",
       "    .dataframe thead th {\n",
       "        text-align: right;\n",
       "    }\n",
       "</style>\n",
       "<table border=\"1\" class=\"dataframe\">\n",
       "  <thead>\n",
       "    <tr style=\"text-align: right;\">\n",
       "      <th></th>\n",
       "      <th>parametry</th>\n",
       "      <th>wartoscAIC</th>\n",
       "      <th>wartoscBIC</th>\n",
       "      <th>p</th>\n",
       "      <th>d</th>\n",
       "      <th>q</th>\n",
       "    </tr>\n",
       "  </thead>\n",
       "  <tbody>\n",
       "    <tr>\n",
       "      <th>12</th>\n",
       "      <td>ARIMA(2,0,0)</td>\n",
       "      <td>120.848892</td>\n",
       "      <td>127.893692</td>\n",
       "      <td>2</td>\n",
       "      <td>0</td>\n",
       "      <td>0</td>\n",
       "    </tr>\n",
       "  </tbody>\n",
       "</table>\n",
       "</div>"
      ],
      "text/plain": [
       "       parametry  wartoscAIC  wartoscBIC  p  d  q\n",
       "12  ARIMA(2,0,0)  120.848892  127.893692  2  0  0"
      ]
     },
     "execution_count": 54,
     "metadata": {},
     "output_type": "execute_result"
    }
   ],
   "source": [
    "podsumowanie[podsumowanie['d']==0][podsumowanie[podsumowanie['d']==0]['wartoscAIC']==min(podsumowanie[podsumowanie['d']==0]['wartoscAIC'])]\n",
    "# model ARIMA(2,0,0) z min AIC"
   ]
  },
  {
   "cell_type": "code",
   "execution_count": 55,
   "metadata": {},
   "outputs": [
    {
     "data": {
      "text/html": [
       "<div>\n",
       "<style scoped>\n",
       "    .dataframe tbody tr th:only-of-type {\n",
       "        vertical-align: middle;\n",
       "    }\n",
       "\n",
       "    .dataframe tbody tr th {\n",
       "        vertical-align: top;\n",
       "    }\n",
       "\n",
       "    .dataframe thead th {\n",
       "        text-align: right;\n",
       "    }\n",
       "</style>\n",
       "<table border=\"1\" class=\"dataframe\">\n",
       "  <thead>\n",
       "    <tr style=\"text-align: right;\">\n",
       "      <th></th>\n",
       "      <th>parametry</th>\n",
       "      <th>wartoscAIC</th>\n",
       "      <th>wartoscBIC</th>\n",
       "      <th>p</th>\n",
       "      <th>d</th>\n",
       "      <th>q</th>\n",
       "    </tr>\n",
       "  </thead>\n",
       "  <tbody>\n",
       "    <tr>\n",
       "      <th>12</th>\n",
       "      <td>ARIMA(2,0,0)</td>\n",
       "      <td>120.848892</td>\n",
       "      <td>127.893692</td>\n",
       "      <td>2</td>\n",
       "      <td>0</td>\n",
       "      <td>0</td>\n",
       "    </tr>\n",
       "  </tbody>\n",
       "</table>\n",
       "</div>"
      ],
      "text/plain": [
       "       parametry  wartoscAIC  wartoscBIC  p  d  q\n",
       "12  ARIMA(2,0,0)  120.848892  127.893692  2  0  0"
      ]
     },
     "execution_count": 55,
     "metadata": {},
     "output_type": "execute_result"
    }
   ],
   "source": [
    "podsumowanie[podsumowanie['d']==0][podsumowanie[podsumowanie['d']==0]['wartoscBIC']==min(podsumowanie[podsumowanie['d']==0]['wartoscBIC'])]\n",
    "# Model ARIMA(2,0,0) z min BIC"
   ]
  },
  {
   "cell_type": "code",
   "execution_count": 56,
   "metadata": {},
   "outputs": [],
   "source": [
    "#obejrzymy te dwa modele dokladniej"
   ]
  },
  {
   "cell_type": "code",
   "execution_count": 57,
   "metadata": {},
   "outputs": [
    {
     "name": "stdout",
     "output_type": "stream",
     "text": [
      "                               SARIMAX Results                                \n",
      "==============================================================================\n",
      "Dep. Variable:       log_l_przypadkow   No. Observations:                   43\n",
      "Model:                 ARIMA(2, 1, 1)   Log Likelihood                 -55.744\n",
      "Date:                Thu, 30 Nov 2023   AIC                            119.488\n",
      "Time:                        23:06:16   BIC                            126.438\n",
      "Sample:                    03-01-2020   HQIC                           122.035\n",
      "                         - 09-01-2023                                         \n",
      "Covariance Type:                  opg                                         \n",
      "==============================================================================\n",
      "                 coef    std err          z      P>|z|      [0.025      0.975]\n",
      "------------------------------------------------------------------------------\n",
      "ar.L1          1.2201      0.221      5.533      0.000       0.788       1.652\n",
      "ar.L2         -0.6289      0.148     -4.243      0.000      -0.919      -0.338\n",
      "ma.L1         -0.7186      0.234     -3.077      0.002      -1.176      -0.261\n",
      "sigma2         0.8138      0.176      4.625      0.000       0.469       1.159\n",
      "===================================================================================\n",
      "Ljung-Box (Q):                       33.84   Jarque-Bera (JB):                 1.43\n",
      "Prob(Q):                              0.74   Prob(JB):                         0.49\n",
      "Heteroskedasticity (H):               0.73   Skew:                             0.45\n",
      "Prob(H) (two-sided):                  0.57   Kurtosis:                         3.08\n",
      "===================================================================================\n",
      "\n",
      "Warnings:\n",
      "[1] Covariance matrix calculated using the outer product of gradients (complex-step).\n"
     ]
    },
    {
     "name": "stderr",
     "output_type": "stream",
     "text": [
      "C:\\Users\\veron\\anaconda3\\lib\\site-packages\\statsmodels\\tsa\\base\\tsa_model.py:159: ValueWarning: No frequency information was provided, so inferred frequency MS will be used.\n",
      "  warnings.warn('No frequency information was'\n",
      "C:\\Users\\veron\\anaconda3\\lib\\site-packages\\statsmodels\\tsa\\base\\tsa_model.py:159: ValueWarning: No frequency information was provided, so inferred frequency MS will be used.\n",
      "  warnings.warn('No frequency information was'\n",
      "C:\\Users\\veron\\anaconda3\\lib\\site-packages\\statsmodels\\tsa\\base\\tsa_model.py:159: ValueWarning: No frequency information was provided, so inferred frequency MS will be used.\n",
      "  warnings.warn('No frequency information was'\n"
     ]
    }
   ],
   "source": [
    "model1 = ARIMA(df_train['log_l_przypadkow'], order=(2, 1, 1))\n",
    "model1_fit = model1.fit()\n",
    "print(model1_fit.summary())"
   ]
  },
  {
   "cell_type": "code",
   "execution_count": 58,
   "metadata": {},
   "outputs": [],
   "source": [
    "#wszystkie parametry sa istotne"
   ]
  },
  {
   "cell_type": "code",
   "execution_count": 59,
   "metadata": {},
   "outputs": [
    {
     "name": "stdout",
     "output_type": "stream",
     "text": [
      "                               SARIMAX Results                                \n",
      "==============================================================================\n",
      "Dep. Variable:       log_l_przypadkow   No. Observations:                   43\n",
      "Model:                 ARIMA(2, 0, 0)   Log Likelihood                 -56.424\n",
      "Date:                Thu, 30 Nov 2023   AIC                            120.849\n",
      "Time:                        23:06:16   BIC                            127.894\n",
      "Sample:                    03-01-2020   HQIC                           123.447\n",
      "                         - 09-01-2023                                         \n",
      "Covariance Type:                  opg                                         \n",
      "==============================================================================\n",
      "                 coef    std err          z      P>|z|      [0.025      0.975]\n",
      "------------------------------------------------------------------------------\n",
      "const         10.3865      0.521     19.944      0.000       9.366      11.407\n",
      "ar.L1          1.3631      0.166      8.226      0.000       1.038       1.688\n",
      "ar.L2         -0.6367      0.167     -3.812      0.000      -0.964      -0.309\n",
      "sigma2         0.7671      0.181      4.229      0.000       0.412       1.123\n",
      "===================================================================================\n",
      "Ljung-Box (Q):                       39.54   Jarque-Bera (JB):                 1.25\n",
      "Prob(Q):                              0.49   Prob(JB):                         0.53\n",
      "Heteroskedasticity (H):               0.78   Skew:                             0.41\n",
      "Prob(H) (two-sided):                  0.65   Kurtosis:                         2.83\n",
      "===================================================================================\n",
      "\n",
      "Warnings:\n",
      "[1] Covariance matrix calculated using the outer product of gradients (complex-step).\n"
     ]
    },
    {
     "name": "stderr",
     "output_type": "stream",
     "text": [
      "C:\\Users\\veron\\anaconda3\\lib\\site-packages\\statsmodels\\tsa\\base\\tsa_model.py:159: ValueWarning: No frequency information was provided, so inferred frequency MS will be used.\n",
      "  warnings.warn('No frequency information was'\n",
      "C:\\Users\\veron\\anaconda3\\lib\\site-packages\\statsmodels\\tsa\\base\\tsa_model.py:159: ValueWarning: No frequency information was provided, so inferred frequency MS will be used.\n",
      "  warnings.warn('No frequency information was'\n",
      "C:\\Users\\veron\\anaconda3\\lib\\site-packages\\statsmodels\\tsa\\base\\tsa_model.py:159: ValueWarning: No frequency information was provided, so inferred frequency MS will be used.\n",
      "  warnings.warn('No frequency information was'\n"
     ]
    }
   ],
   "source": [
    "model2 = ARIMA(df_train['log_l_przypadkow'], order=(2, 0, 0))\n",
    "model2_fit = model2.fit()\n",
    "print(model2_fit.summary())"
   ]
  },
  {
   "cell_type": "code",
   "execution_count": 60,
   "metadata": {},
   "outputs": [],
   "source": [
    "#tutaj rowniez wszystkie parametry sa istotne"
   ]
  },
  {
   "cell_type": "code",
   "execution_count": 61,
   "metadata": {},
   "outputs": [],
   "source": [
    "#sprawdzmy jeszcze modele dla oryginalnej niezlogarytmowanej zmiennej "
   ]
  },
  {
   "cell_type": "code",
   "execution_count": 62,
   "metadata": {},
   "outputs": [
    {
     "name": "stdout",
     "output_type": "stream",
     "text": [
      "ADF Statistic: -3.425889\n",
      "p-value: 0.010107\n",
      "Statystyka testu KPSS: 0.20107559950797455\n",
      "Wartość p-wartości: 0.1\n"
     ]
    },
    {
     "name": "stderr",
     "output_type": "stream",
     "text": [
      "C:\\Users\\veron\\anaconda3\\lib\\site-packages\\statsmodels\\tsa\\stattools.py:1661: FutureWarning: The behavior of using lags=None will change in the next release. Currently lags=None is the same as lags='legacy', and so a sample-size lag length is used. After the next release, the default will change to be the same as lags='auto' which uses an automatic lag length selection method. To silence this warning, either use 'auto' or 'legacy'\n",
      "  warn(msg, FutureWarning)\n",
      "C:\\Users\\veron\\anaconda3\\lib\\site-packages\\statsmodels\\tsa\\stattools.py:1687: InterpolationWarning: p-value is greater than the indicated p-value\n",
      "  warn(\"p-value is greater than the indicated p-value\", InterpolationWarning)\n"
     ]
    }
   ],
   "source": [
    "adf_test = adfuller(df_train['liczba_przypadkow'])\n",
    "# Output the results\n",
    "print('ADF Statistic: %f' % adf_test[0])\n",
    "print('p-value: %f' % adf_test[1])\n",
    "\n",
    "\n",
    "wyniki_testu = kpss(df_train['liczba_przypadkow'])\n",
    "print(\"Statystyka testu KPSS:\", wyniki_testu[0])\n",
    "print(\"Wartość p-wartości:\", wyniki_testu[1])"
   ]
  },
  {
   "cell_type": "code",
   "execution_count": 63,
   "metadata": {},
   "outputs": [
    {
     "data": {
      "image/png": "[encoded data removed]",
      "text/plain": [
       "<Figure size 432x288 with 1 Axes>"
      ]
     },
     "metadata": {
      "needs_background": "light"
     },
     "output_type": "display_data"
    },
    {
     "data": {
      "image/png": "[encoded data removed]",
      "text/plain": [
       "<Figure size 432x288 with 1 Axes>"
      ]
     },
     "metadata": {
      "needs_background": "light"
     },
     "output_type": "display_data"
    }
   ],
   "source": [
    "acf_original = plot_acf(df_train['liczba_przypadkow'], lags=12)\n",
    "pacf_original = plot_pacf(df_train['liczba_przypadkow'], lags=12)\n"
   ]
  },
  {
   "cell_type": "code",
   "execution_count": 64,
   "metadata": {},
   "outputs": [
    {
     "name": "stderr",
     "output_type": "stream",
     "text": [
      "C:\\Users\\veron\\anaconda3\\lib\\site-packages\\statsmodels\\tsa\\base\\tsa_model.py:159: ValueWarning: No frequency information was provided, so inferred frequency MS will be used.\n",
      "  warnings.warn('No frequency information was'\n",
      "C:\\Users\\veron\\anaconda3\\lib\\site-packages\\statsmodels\\tsa\\base\\tsa_model.py:159: ValueWarning: No frequency information was provided, so inferred frequency MS will be used.\n",
      "  warnings.warn('No frequency information was'\n",
      "C:\\Users\\veron\\anaconda3\\lib\\site-packages\\statsmodels\\tsa\\base\\tsa_model.py:159: ValueWarning: No frequency information was provided, so inferred frequency MS will be used.\n",
      "  warnings.warn('No frequency information was'\n",
      "C:\\Users\\veron\\anaconda3\\lib\\site-packages\\statsmodels\\tsa\\base\\tsa_model.py:159: ValueWarning: No frequency information was provided, so inferred frequency MS will be used.\n",
      "  warnings.warn('No frequency information was'\n",
      "C:\\Users\\veron\\anaconda3\\lib\\site-packages\\statsmodels\\tsa\\base\\tsa_model.py:159: ValueWarning: No frequency information was provided, so inferred frequency MS will be used.\n",
      "  warnings.warn('No frequency information was'\n",
      "C:\\Users\\veron\\anaconda3\\lib\\site-packages\\statsmodels\\tsa\\base\\tsa_model.py:159: ValueWarning: No frequency information was provided, so inferred frequency MS will be used.\n",
      "  warnings.warn('No frequency information was'\n",
      "C:\\Users\\veron\\anaconda3\\lib\\site-packages\\statsmodels\\tsa\\base\\tsa_model.py:159: ValueWarning: No frequency information was provided, so inferred frequency MS will be used.\n",
      "  warnings.warn('No frequency information was'\n",
      "C:\\Users\\veron\\anaconda3\\lib\\site-packages\\statsmodels\\tsa\\base\\tsa_model.py:159: ValueWarning: No frequency information was provided, so inferred frequency MS will be used.\n",
      "  warnings.warn('No frequency information was'\n",
      "C:\\Users\\veron\\anaconda3\\lib\\site-packages\\statsmodels\\tsa\\base\\tsa_model.py:159: ValueWarning: No frequency information was provided, so inferred frequency MS will be used.\n",
      "  warnings.warn('No frequency information was'\n",
      "C:\\Users\\veron\\anaconda3\\lib\\site-packages\\statsmodels\\tsa\\statespace\\sarimax.py:975: UserWarning: Non-invertible starting MA parameters found. Using zeros as starting parameters.\n",
      "  warn('Non-invertible starting MA parameters found.'\n",
      "C:\\Users\\veron\\anaconda3\\lib\\site-packages\\statsmodels\\tsa\\base\\tsa_model.py:159: ValueWarning: No frequency information was provided, so inferred frequency MS will be used.\n",
      "  warnings.warn('No frequency information was'\n",
      "C:\\Users\\veron\\anaconda3\\lib\\site-packages\\statsmodels\\tsa\\base\\tsa_model.py:159: ValueWarning: No frequency information was provided, so inferred frequency MS will be used.\n",
      "  warnings.warn('No frequency information was'\n",
      "C:\\Users\\veron\\anaconda3\\lib\\site-packages\\statsmodels\\tsa\\base\\tsa_model.py:159: ValueWarning: No frequency information was provided, so inferred frequency MS will be used.\n",
      "  warnings.warn('No frequency information was'\n",
      "C:\\Users\\veron\\anaconda3\\lib\\site-packages\\statsmodels\\tsa\\base\\tsa_model.py:159: ValueWarning: No frequency information was provided, so inferred frequency MS will be used.\n",
      "  warnings.warn('No frequency information was'\n",
      "C:\\Users\\veron\\anaconda3\\lib\\site-packages\\statsmodels\\tsa\\base\\tsa_model.py:159: ValueWarning: No frequency information was provided, so inferred frequency MS will be used.\n",
      "  warnings.warn('No frequency information was'\n",
      "C:\\Users\\veron\\anaconda3\\lib\\site-packages\\statsmodels\\tsa\\base\\tsa_model.py:159: ValueWarning: No frequency information was provided, so inferred frequency MS will be used.\n",
      "  warnings.warn('No frequency information was'\n",
      "C:\\Users\\veron\\anaconda3\\lib\\site-packages\\statsmodels\\tsa\\base\\tsa_model.py:159: ValueWarning: No frequency information was provided, so inferred frequency MS will be used.\n",
      "  warnings.warn('No frequency information was'\n",
      "C:\\Users\\veron\\anaconda3\\lib\\site-packages\\statsmodels\\tsa\\base\\tsa_model.py:159: ValueWarning: No frequency information was provided, so inferred frequency MS will be used.\n",
      "  warnings.warn('No frequency information was'\n",
      "C:\\Users\\veron\\anaconda3\\lib\\site-packages\\statsmodels\\tsa\\base\\tsa_model.py:159: ValueWarning: No frequency information was provided, so inferred frequency MS will be used.\n",
      "  warnings.warn('No frequency information was'\n",
      "C:\\Users\\veron\\anaconda3\\lib\\site-packages\\statsmodels\\tsa\\base\\tsa_model.py:159: ValueWarning: No frequency information was provided, so inferred frequency MS will be used.\n",
      "  warnings.warn('No frequency information was'\n",
      "C:\\Users\\veron\\anaconda3\\lib\\site-packages\\statsmodels\\tsa\\base\\tsa_model.py:159: ValueWarning: No frequency information was provided, so inferred frequency MS will be used.\n",
      "  warnings.warn('No frequency information was'\n",
      "C:\\Users\\veron\\anaconda3\\lib\\site-packages\\statsmodels\\tsa\\base\\tsa_model.py:159: ValueWarning: No frequency information was provided, so inferred frequency MS will be used.\n",
      "  warnings.warn('No frequency information was'\n",
      "C:\\Users\\veron\\anaconda3\\lib\\site-packages\\statsmodels\\tsa\\base\\tsa_model.py:159: ValueWarning: No frequency information was provided, so inferred frequency MS will be used.\n",
      "  warnings.warn('No frequency information was'\n",
      "C:\\Users\\veron\\anaconda3\\lib\\site-packages\\statsmodels\\tsa\\base\\tsa_model.py:159: ValueWarning: No frequency information was provided, so inferred frequency MS will be used.\n",
      "  warnings.warn('No frequency information was'\n",
      "C:\\Users\\veron\\anaconda3\\lib\\site-packages\\statsmodels\\tsa\\base\\tsa_model.py:159: ValueWarning: No frequency information was provided, so inferred frequency MS will be used.\n",
      "  warnings.warn('No frequency information was'\n",
      "C:\\Users\\veron\\anaconda3\\lib\\site-packages\\statsmodels\\tsa\\base\\tsa_model.py:159: ValueWarning: No frequency information was provided, so inferred frequency MS will be used.\n",
      "  warnings.warn('No frequency information was'\n",
      "C:\\Users\\veron\\anaconda3\\lib\\site-packages\\statsmodels\\tsa\\base\\tsa_model.py:159: ValueWarning: No frequency information was provided, so inferred frequency MS will be used.\n",
      "  warnings.warn('No frequency information was'\n",
      "C:\\Users\\veron\\anaconda3\\lib\\site-packages\\statsmodels\\tsa\\base\\tsa_model.py:159: ValueWarning: No frequency information was provided, so inferred frequency MS will be used.\n",
      "  warnings.warn('No frequency information was'\n",
      "C:\\Users\\veron\\anaconda3\\lib\\site-packages\\statsmodels\\tsa\\base\\tsa_model.py:159: ValueWarning: No frequency information was provided, so inferred frequency MS will be used.\n",
      "  warnings.warn('No frequency information was'\n",
      "C:\\Users\\veron\\anaconda3\\lib\\site-packages\\statsmodels\\tsa\\base\\tsa_model.py:159: ValueWarning: No frequency information was provided, so inferred frequency MS will be used.\n",
      "  warnings.warn('No frequency information was'\n",
      "C:\\Users\\veron\\anaconda3\\lib\\site-packages\\statsmodels\\tsa\\base\\tsa_model.py:159: ValueWarning: No frequency information was provided, so inferred frequency MS will be used.\n",
      "  warnings.warn('No frequency information was'\n",
      "C:\\Users\\veron\\anaconda3\\lib\\site-packages\\statsmodels\\tsa\\base\\tsa_model.py:159: ValueWarning: No frequency information was provided, so inferred frequency MS will be used.\n",
      "  warnings.warn('No frequency information was'\n",
      "C:\\Users\\veron\\anaconda3\\lib\\site-packages\\statsmodels\\tsa\\base\\tsa_model.py:159: ValueWarning: No frequency information was provided, so inferred frequency MS will be used.\n",
      "  warnings.warn('No frequency information was'\n",
      "C:\\Users\\veron\\anaconda3\\lib\\site-packages\\statsmodels\\tsa\\base\\tsa_model.py:159: ValueWarning: No frequency information was provided, so inferred frequency MS will be used.\n",
      "  warnings.warn('No frequency information was'\n",
      "C:\\Users\\veron\\anaconda3\\lib\\site-packages\\statsmodels\\tsa\\base\\tsa_model.py:159: ValueWarning: No frequency information was provided, so inferred frequency MS will be used.\n",
      "  warnings.warn('No frequency information was'\n",
      "C:\\Users\\veron\\anaconda3\\lib\\site-packages\\statsmodels\\tsa\\base\\tsa_model.py:159: ValueWarning: No frequency information was provided, so inferred frequency MS will be used.\n",
      "  warnings.warn('No frequency information was'\n",
      "C:\\Users\\veron\\anaconda3\\lib\\site-packages\\statsmodels\\tsa\\base\\tsa_model.py:159: ValueWarning: No frequency information was provided, so inferred frequency MS will be used.\n",
      "  warnings.warn('No frequency information was'\n"
     ]
    },
    {
     "data": {
      "text/html": [
       "<div>\n",
       "<style scoped>\n",
       "    .dataframe tbody tr th:only-of-type {\n",
       "        vertical-align: middle;\n",
       "    }\n",
       "\n",
       "    .dataframe tbody tr th {\n",
       "        vertical-align: top;\n",
       "    }\n",
       "\n",
       "    .dataframe thead th {\n",
       "        text-align: right;\n",
       "    }\n",
       "</style>\n",
       "<table border=\"1\" class=\"dataframe\">\n",
       "  <thead>\n",
       "    <tr style=\"text-align: right;\">\n",
       "      <th></th>\n",
       "      <th>parametry</th>\n",
       "      <th>wartoscAIC</th>\n",
       "      <th>wartoscBIC</th>\n",
       "      <th>p</th>\n",
       "      <th>d</th>\n",
       "      <th>q</th>\n",
       "    </tr>\n",
       "  </thead>\n",
       "  <tbody>\n",
       "    <tr>\n",
       "      <th>0</th>\n",
       "      <td>ARIMA(0,0,0)</td>\n",
       "      <td>1305.741402</td>\n",
       "      <td>1309.263802</td>\n",
       "      <td>0</td>\n",
       "      <td>0</td>\n",
       "      <td>0</td>\n",
       "    </tr>\n",
       "    <tr>\n",
       "      <th>1</th>\n",
       "      <td>ARIMA(0,1,0)</td>\n",
       "      <td>1130.955230</td>\n",
       "      <td>1132.692899</td>\n",
       "      <td>0</td>\n",
       "      <td>1</td>\n",
       "      <td>0</td>\n",
       "    </tr>\n",
       "    <tr>\n",
       "      <th>2</th>\n",
       "      <td>ARIMA(0,0,1)</td>\n",
       "      <td>1159.287640</td>\n",
       "      <td>1164.571240</td>\n",
       "      <td>0</td>\n",
       "      <td>0</td>\n",
       "      <td>1</td>\n",
       "    </tr>\n",
       "    <tr>\n",
       "      <th>3</th>\n",
       "      <td>ARIMA(0,1,1)</td>\n",
       "      <td>1130.154676</td>\n",
       "      <td>1133.630015</td>\n",
       "      <td>0</td>\n",
       "      <td>1</td>\n",
       "      <td>1</td>\n",
       "    </tr>\n",
       "    <tr>\n",
       "      <th>4</th>\n",
       "      <td>ARIMA(1,0,0)</td>\n",
       "      <td>1155.811684</td>\n",
       "      <td>1161.095285</td>\n",
       "      <td>1</td>\n",
       "      <td>0</td>\n",
       "      <td>0</td>\n",
       "    </tr>\n",
       "    <tr>\n",
       "      <th>5</th>\n",
       "      <td>ARIMA(1,1,0)</td>\n",
       "      <td>1131.199782</td>\n",
       "      <td>1134.675121</td>\n",
       "      <td>1</td>\n",
       "      <td>1</td>\n",
       "      <td>0</td>\n",
       "    </tr>\n",
       "    <tr>\n",
       "      <th>6</th>\n",
       "      <td>ARIMA(1,0,1)</td>\n",
       "      <td>1151.445471</td>\n",
       "      <td>1158.490272</td>\n",
       "      <td>1</td>\n",
       "      <td>0</td>\n",
       "      <td>1</td>\n",
       "    </tr>\n",
       "    <tr>\n",
       "      <th>7</th>\n",
       "      <td>ARIMA(1,1,1)</td>\n",
       "      <td>1131.749821</td>\n",
       "      <td>1136.962830</td>\n",
       "      <td>1</td>\n",
       "      <td>1</td>\n",
       "      <td>1</td>\n",
       "    </tr>\n",
       "    <tr>\n",
       "      <th>8</th>\n",
       "      <td>ARIMA(2,0,0)</td>\n",
       "      <td>1151.042934</td>\n",
       "      <td>1158.087734</td>\n",
       "      <td>2</td>\n",
       "      <td>0</td>\n",
       "      <td>0</td>\n",
       "    </tr>\n",
       "    <tr>\n",
       "      <th>9</th>\n",
       "      <td>ARIMA(2,1,0)</td>\n",
       "      <td>1129.516472</td>\n",
       "      <td>1134.729480</td>\n",
       "      <td>2</td>\n",
       "      <td>1</td>\n",
       "      <td>0</td>\n",
       "    </tr>\n",
       "    <tr>\n",
       "      <th>10</th>\n",
       "      <td>ARIMA(2,0,1)</td>\n",
       "      <td>1152.860467</td>\n",
       "      <td>1161.666467</td>\n",
       "      <td>2</td>\n",
       "      <td>0</td>\n",
       "      <td>1</td>\n",
       "    </tr>\n",
       "    <tr>\n",
       "      <th>11</th>\n",
       "      <td>ARIMA(2,1,1)</td>\n",
       "      <td>1128.125819</td>\n",
       "      <td>1135.076498</td>\n",
       "      <td>2</td>\n",
       "      <td>1</td>\n",
       "      <td>1</td>\n",
       "    </tr>\n",
       "  </tbody>\n",
       "</table>\n",
       "</div>"
      ],
      "text/plain": [
       "       parametry   wartoscAIC   wartoscBIC  p  d  q\n",
       "0   ARIMA(0,0,0)  1305.741402  1309.263802  0  0  0\n",
       "1   ARIMA(0,1,0)  1130.955230  1132.692899  0  1  0\n",
       "2   ARIMA(0,0,1)  1159.287640  1164.571240  0  0  1\n",
       "3   ARIMA(0,1,1)  1130.154676  1133.630015  0  1  1\n",
       "4   ARIMA(1,0,0)  1155.811684  1161.095285  1  0  0\n",
       "5   ARIMA(1,1,0)  1131.199782  1134.675121  1  1  0\n",
       "6   ARIMA(1,0,1)  1151.445471  1158.490272  1  0  1\n",
       "7   ARIMA(1,1,1)  1131.749821  1136.962830  1  1  1\n",
       "8   ARIMA(2,0,0)  1151.042934  1158.087734  2  0  0\n",
       "9   ARIMA(2,1,0)  1129.516472  1134.729480  2  1  0\n",
       "10  ARIMA(2,0,1)  1152.860467  1161.666467  2  0  1\n",
       "11  ARIMA(2,1,1)  1128.125819  1135.076498  2  1  1"
      ]
     },
     "execution_count": 64,
     "metadata": {},
     "output_type": "execute_result"
    }
   ],
   "source": [
    "#Porównanie wszystkich modeli ARIMA z ustawionymi parametrami\n",
    "podsumowanie2=wybor_modelu_ARIMA(2,1,1, 'liczba_przypadkow')\n",
    "podsumowanie2"
   ]
  },
  {
   "cell_type": "code",
   "execution_count": 65,
   "metadata": {},
   "outputs": [
    {
     "name": "stdout",
     "output_type": "stream",
     "text": [
      "       parametry   wartoscAIC   wartoscBIC  p  d  q\n",
      "11  ARIMA(2,1,1)  1128.125819  1135.076498  2  1  1\n",
      "      parametry  wartoscAIC   wartoscBIC  p  d  q\n",
      "1  ARIMA(0,1,0)  1130.95523  1132.692899  0  1  0\n",
      "      parametry   wartoscAIC   wartoscBIC  p  d  q\n",
      "8  ARIMA(2,0,0)  1151.042934  1158.087734  2  0  0\n",
      "      parametry   wartoscAIC   wartoscBIC  p  d  q\n",
      "8  ARIMA(2,0,0)  1151.042934  1158.087734  2  0  0\n"
     ]
    }
   ],
   "source": [
    "print(podsumowanie2[podsumowanie2['wartoscAIC']==min(podsumowanie2['wartoscAIC'])])\n",
    "print(podsumowanie2[podsumowanie2['wartoscBIC']==min(podsumowanie2['wartoscBIC'])])\n",
    "print(podsumowanie2[podsumowanie2['d']==0][podsumowanie2[podsumowanie2['d']==0]['wartoscAIC']==min(podsumowanie2[podsumowanie2['d']==0]['wartoscAIC'])])\n",
    "print(podsumowanie2[podsumowanie2['d']==0][podsumowanie2[podsumowanie2['d']==0]['wartoscBIC']==min(podsumowanie2[podsumowanie2['d']==0]['wartoscBIC'])])"
   ]
  },
  {
   "cell_type": "code",
   "execution_count": 66,
   "metadata": {},
   "outputs": [
    {
     "name": "stdout",
     "output_type": "stream",
     "text": [
      "                               SARIMAX Results                                \n",
      "==============================================================================\n",
      "Dep. Variable:      liczba_przypadkow   No. Observations:                   43\n",
      "Model:                 ARIMA(2, 0, 0)   Log Likelihood                -571.521\n",
      "Date:                Thu, 30 Nov 2023   AIC                           1151.043\n",
      "Time:                        23:06:17   BIC                           1158.088\n",
      "Sample:                    03-01-2020   HQIC                          1153.641\n",
      "                         - 09-01-2023                                         \n",
      "Covariance Type:                  opg                                         \n",
      "==============================================================================\n",
      "                 coef    std err          z      P>|z|      [0.025      0.975]\n",
      "------------------------------------------------------------------------------\n",
      "const       1.511e+05   7.61e+04      1.985      0.047    1917.232       3e+05\n",
      "ar.L1          0.9993      0.169      5.902      0.000       0.667       1.331\n",
      "ar.L2         -0.3768      0.168     -2.243      0.025      -0.706      -0.048\n",
      "sigma2      2.074e+10      1.374   1.51e+10      0.000    2.07e+10    2.07e+10\n",
      "===================================================================================\n",
      "Ljung-Box (Q):                       15.26   Jarque-Bera (JB):                20.54\n",
      "Prob(Q):                              1.00   Prob(JB):                         0.00\n",
      "Heteroskedasticity (H):               0.09   Skew:                             1.32\n",
      "Prob(H) (two-sided):                  0.00   Kurtosis:                         5.12\n",
      "===================================================================================\n",
      "\n",
      "Warnings:\n",
      "[1] Covariance matrix calculated using the outer product of gradients (complex-step).\n",
      "[2] Covariance matrix is singular or near-singular, with condition number 3.69e+25. Standard errors may be unstable.\n"
     ]
    },
    {
     "name": "stderr",
     "output_type": "stream",
     "text": [
      "C:\\Users\\veron\\anaconda3\\lib\\site-packages\\statsmodels\\tsa\\base\\tsa_model.py:159: ValueWarning: No frequency information was provided, so inferred frequency MS will be used.\n",
      "  warnings.warn('No frequency information was'\n",
      "C:\\Users\\veron\\anaconda3\\lib\\site-packages\\statsmodels\\tsa\\base\\tsa_model.py:159: ValueWarning: No frequency information was provided, so inferred frequency MS will be used.\n",
      "  warnings.warn('No frequency information was'\n",
      "C:\\Users\\veron\\anaconda3\\lib\\site-packages\\statsmodels\\tsa\\base\\tsa_model.py:159: ValueWarning: No frequency information was provided, so inferred frequency MS will be used.\n",
      "  warnings.warn('No frequency information was'\n"
     ]
    }
   ],
   "source": [
    "# Model ARIMA(2,0,0) jest najlepszy sposrod wygenerowanych modeli oryginalnej zmiennej\n",
    "model3 = ARIMA(df_train['liczba_przypadkow'], order=(2, 0, 0))\n",
    "model3_fit = model3.fit()\n",
    "print(model3_fit.summary())"
   ]
  },
  {
   "cell_type": "code",
   "execution_count": 67,
   "metadata": {},
   "outputs": [],
   "source": [
    "#mamy trzech kandydatow na model:\n",
    "#ARIMA(2,1,1) na zlogarytmowanej zmiennej\n",
    "#ARIMA(2,0,0) na zlogarytmowanej zmiennej\n",
    "#ARIMA(2,0,0) na oryginalnej zmiennej "
   ]
  },
  {
   "cell_type": "code",
   "execution_count": 68,
   "metadata": {},
   "outputs": [],
   "source": [
    "#Musimy zatem ocenic je na niezaleznym zbiorze testowym"
   ]
  },
  {
   "cell_type": "code",
   "execution_count": 69,
   "metadata": {},
   "outputs": [],
   "source": [
    "forecast = model1_fit.get_forecast(steps=2)"
   ]
  },
  {
   "cell_type": "code",
   "execution_count": 70,
   "metadata": {},
   "outputs": [
    {
     "name": "stdout",
     "output_type": "stream",
     "text": [
      "mies_i_rok\n",
      "2023-10    12485.325360\n",
      "2023-11    17728.898143\n",
      "dtype: float64\n"
     ]
    }
   ],
   "source": [
    "#Prognozy na następny miesiąc (pamietajac o tym ze wynikiem jest logarytm)\n",
    "import math\n",
    "test_forecast = model1_fit.get_forecast(steps=len(df_test))\n",
    "test_forecast_series = pd.Series([math.exp(test_forecast.predicted_mean[0]), math.exp(test_forecast.predicted_mean[1])], index=df_test.index)\n",
    "print(test_forecast_series)"
   ]
  },
  {
   "cell_type": "code",
   "execution_count": 71,
   "metadata": {},
   "outputs": [],
   "source": [
    "#obliczamy MSE i RMSE\n",
    "from sklearn.metrics import mean_squared_error\n",
    "mse1 = mean_squared_error(df_test['liczba_przypadkow'], test_forecast_series)\n",
    "rmse1 = mse1**0.5"
   ]
  },
  {
   "cell_type": "code",
   "execution_count": 72,
   "metadata": {},
   "outputs": [
    {
     "data": {
      "image/png": "[encoded data removed]",
      "text/plain": [
       "<Figure size 1008x504 with 1 Axes>"
      ]
     },
     "metadata": {
      "needs_background": "light"
     },
     "output_type": "display_data"
    }
   ],
   "source": [
    "# Prognozy z model1\n",
    "plt.figure(figsize=(14,7))\n",
    "plt.plot(df_train['liczba_przypadkow'], label='Training Data')\n",
    "plt.plot(df_test['liczba_przypadkow'], label='Actual Data', color='orange')\n",
    "plt.plot(test_forecast_series, label='Forecasted Data', color='green')\n",
    "plt.fill_between(df_test.index, \n",
    "                 test_forecast.conf_int().iloc[:, 0], \n",
    "                 test_forecast.conf_int().iloc[:, 1], \n",
    "                 color='k', alpha=.15)\n",
    "plt.title('ARIMA Model Evaluation')\n",
    "plt.legend()\n",
    "plt.show()\n",
    "\n",
    "#Prognozy trochę niższe od aktualnych, ale bardzo bliskie"
   ]
  },
  {
   "cell_type": "code",
   "execution_count": 73,
   "metadata": {},
   "outputs": [
    {
     "name": "stdout",
     "output_type": "stream",
     "text": [
      "mies_i_rok\n",
      "2023-10    19701.280460\n",
      "2023-11    60083.409614\n",
      "dtype: float64\n"
     ]
    },
    {
     "data": {
      "image/png": "[encoded data removed]",
      "text/plain": [
       "<Figure size 1008x504 with 1 Axes>"
      ]
     },
     "metadata": {
      "needs_background": "light"
     },
     "output_type": "display_data"
    }
   ],
   "source": [
    "#Prognozy model2\n",
    "test_forecast = model2_fit.get_forecast(steps=len(df_test))\n",
    "test_forecast_series = pd.Series([math.exp(test_forecast.predicted_mean[0]), math.exp(test_forecast.predicted_mean[1])], index=df_test.index)\n",
    "print(test_forecast_series)\n",
    "mse2 = mean_squared_error(df_test['liczba_przypadkow'], test_forecast_series)\n",
    "rmse2 = mse2**0.5\n",
    "plt.figure(figsize=(14,7))\n",
    "plt.plot(df_train['liczba_przypadkow'], label='Training Data')\n",
    "plt.plot(df_test['liczba_przypadkow'], label='Actual Data', color='orange')\n",
    "plt.plot(test_forecast_series, label='Forecasted Data', color='green')\n",
    "plt.fill_between(df_test.index, \n",
    "                 test_forecast.conf_int().iloc[:, 0], \n",
    "                 test_forecast.conf_int().iloc[:, 1], \n",
    "                 color='k', alpha=.15)\n",
    "plt.title('ARIMA Model Evaluation')\n",
    "plt.legend()\n",
    "plt.show()\n",
    "# Przeszacowuje prognozy"
   ]
  },
  {
   "cell_type": "code",
   "execution_count": 74,
   "metadata": {},
   "outputs": [
    {
     "name": "stdout",
     "output_type": "stream",
     "text": [
      "mies_i_rok\n",
      "2023-10     60939.733144\n",
      "2023-11    116351.977265\n",
      "dtype: float64\n"
     ]
    },
    {
     "data": {
      "image/png": "[encoded data removed]",
      "text/plain": [
       "<Figure size 1008x504 with 1 Axes>"
      ]
     },
     "metadata": {
      "needs_background": "light"
     },
     "output_type": "display_data"
    }
   ],
   "source": [
    "# #Prognozy model3\n",
    "test_forecast = model3_fit.get_forecast(steps=len(df_test))\n",
    "test_forecast_series = pd.Series(test_forecast.predicted_mean, index=df_test.index)\n",
    "print(test_forecast_series)\n",
    "mse3 = mean_squared_error(df_test['liczba_przypadkow'], test_forecast_series)\n",
    "rmse3 = mse3**0.5\n",
    "plt.figure(figsize=(14,7))\n",
    "plt.plot(df_train['liczba_przypadkow'], label='Training Data')\n",
    "plt.plot(df_test['liczba_przypadkow'], label='Actual Data', color='orange')\n",
    "plt.plot(test_forecast_series, label='Forecasted Data', color='green')\n",
    "plt.fill_between(df_test.index, \n",
    "                 test_forecast.conf_int().iloc[:, 0], \n",
    "                 test_forecast.conf_int().iloc[:, 1], \n",
    "                 color='k', alpha=.15)\n",
    "plt.title('ARIMA Model Evaluation')\n",
    "#plt.xlabel('Date')\n",
    "#plt.ylabel('Number of Births')\n",
    "plt.legend()\n",
    "plt.show()\n",
    "\n",
    "# Przeszacowuje prognozy"
   ]
  },
  {
   "cell_type": "code",
   "execution_count": 75,
   "metadata": {},
   "outputs": [],
   "source": [
    "bledy_prognozy = pd.DataFrame({'Model': [1, 2, 3], 'mse': [mse1, mse2, mse3], 'rmse': [rmse1, rmse2, rmse3]})"
   ]
  },
  {
   "cell_type": "code",
   "execution_count": 76,
   "metadata": {},
   "outputs": [
    {
     "name": "stdout",
     "output_type": "stream",
     "text": [
      "   Model           mse          rmse\n",
      "0      1  2.594548e+07   5093.671040\n",
      "1      2  6.650725e+08  25788.999174\n",
      "2      3  5.456595e+09  73868.768989\n"
     ]
    }
   ],
   "source": [
    "print(bledy_prognozy)"
   ]
  },
  {
   "cell_type": "code",
   "execution_count": 77,
   "metadata": {},
   "outputs": [
    {
     "data": {
      "text/html": [
       "<div>\n",
       "<style scoped>\n",
       "    .dataframe tbody tr th:only-of-type {\n",
       "        vertical-align: middle;\n",
       "    }\n",
       "\n",
       "    .dataframe tbody tr th {\n",
       "        vertical-align: top;\n",
       "    }\n",
       "\n",
       "    .dataframe thead th {\n",
       "        text-align: right;\n",
       "    }\n",
       "</style>\n",
       "<table border=\"1\" class=\"dataframe\">\n",
       "  <thead>\n",
       "    <tr style=\"text-align: right;\">\n",
       "      <th></th>\n",
       "      <th>Model</th>\n",
       "      <th>mse</th>\n",
       "      <th>rmse</th>\n",
       "    </tr>\n",
       "  </thead>\n",
       "  <tbody>\n",
       "    <tr>\n",
       "      <th>0</th>\n",
       "      <td>1</td>\n",
       "      <td>2.594548e+07</td>\n",
       "      <td>5093.67104</td>\n",
       "    </tr>\n",
       "  </tbody>\n",
       "</table>\n",
       "</div>"
      ],
      "text/plain": [
       "   Model           mse        rmse\n",
       "0      1  2.594548e+07  5093.67104"
      ]
     },
     "execution_count": 77,
     "metadata": {},
     "output_type": "execute_result"
    }
   ],
   "source": [
    "bledy_prognozy[bledy_prognozy['mse']==min(bledy_prognozy['mse'])]"
   ]
  },
  {
   "cell_type": "code",
   "execution_count": 78,
   "metadata": {},
   "outputs": [
    {
     "data": {
      "text/html": [
       "<div>\n",
       "<style scoped>\n",
       "    .dataframe tbody tr th:only-of-type {\n",
       "        vertical-align: middle;\n",
       "    }\n",
       "\n",
       "    .dataframe tbody tr th {\n",
       "        vertical-align: top;\n",
       "    }\n",
       "\n",
       "    .dataframe thead th {\n",
       "        text-align: right;\n",
       "    }\n",
       "</style>\n",
       "<table border=\"1\" class=\"dataframe\">\n",
       "  <thead>\n",
       "    <tr style=\"text-align: right;\">\n",
       "      <th></th>\n",
       "      <th>Model</th>\n",
       "      <th>mse</th>\n",
       "      <th>rmse</th>\n",
       "    </tr>\n",
       "  </thead>\n",
       "  <tbody>\n",
       "    <tr>\n",
       "      <th>0</th>\n",
       "      <td>1</td>\n",
       "      <td>2.594548e+07</td>\n",
       "      <td>5093.67104</td>\n",
       "    </tr>\n",
       "  </tbody>\n",
       "</table>\n",
       "</div>"
      ],
      "text/plain": [
       "   Model           mse        rmse\n",
       "0      1  2.594548e+07  5093.67104"
      ]
     },
     "execution_count": 78,
     "metadata": {},
     "output_type": "execute_result"
    }
   ],
   "source": [
    "bledy_prognozy[bledy_prognozy['rmse']==min(bledy_prognozy['rmse'])]"
   ]
  },
  {
   "cell_type": "code",
   "execution_count": 79,
   "metadata": {},
   "outputs": [],
   "source": [
    "#model pierwszy okazal sie najlepszy w prognozie, pozostale modele powoduja overestymacje"
   ]
  },
  {
   "cell_type": "code",
   "execution_count": 80,
   "metadata": {},
   "outputs": [],
   "source": [
    "#nalezy ponownie wyestymowac model1 na wszystkich danych, aby zaprognozowac nieznany miesiac"
   ]
  },
  {
   "cell_type": "code",
   "execution_count": 81,
   "metadata": {},
   "outputs": [
    {
     "name": "stdout",
     "output_type": "stream",
     "text": [
      "                               SARIMAX Results                                \n",
      "==============================================================================\n",
      "Dep. Variable:       log_l_przypadkow   No. Observations:                   45\n",
      "Model:                 ARIMA(2, 1, 1)   Log Likelihood                 -57.544\n",
      "Date:                Thu, 30 Nov 2023   AIC                            123.089\n",
      "Time:                        23:06:18   BIC                            130.225\n",
      "Sample:                    03-01-2020   HQIC                           125.735\n",
      "                         - 11-01-2023                                         \n",
      "Covariance Type:                  opg                                         \n",
      "==============================================================================\n",
      "                 coef    std err          z      P>|z|      [0.025      0.975]\n",
      "------------------------------------------------------------------------------\n",
      "ar.L1          1.2503      0.199      6.275      0.000       0.860       1.641\n",
      "ar.L2         -0.6311      0.145     -4.343      0.000      -0.916      -0.346\n",
      "ma.L1         -0.7619      0.196     -3.896      0.000      -1.145      -0.379\n",
      "sigma2         0.7826      0.160      4.906      0.000       0.470       1.095\n",
      "===================================================================================\n",
      "Ljung-Box (Q):                       33.45   Jarque-Bera (JB):                 1.52\n",
      "Prob(Q):                              0.76   Prob(JB):                         0.47\n",
      "Heteroskedasticity (H):               0.63   Skew:                             0.44\n",
      "Prob(H) (two-sided):                  0.38   Kurtosis:                         3.20\n",
      "===================================================================================\n",
      "\n",
      "Warnings:\n",
      "[1] Covariance matrix calculated using the outer product of gradients (complex-step).\n"
     ]
    },
    {
     "name": "stderr",
     "output_type": "stream",
     "text": [
      "C:\\Users\\veron\\anaconda3\\lib\\site-packages\\statsmodels\\tsa\\base\\tsa_model.py:159: ValueWarning: No frequency information was provided, so inferred frequency MS will be used.\n",
      "  warnings.warn('No frequency information was'\n",
      "C:\\Users\\veron\\anaconda3\\lib\\site-packages\\statsmodels\\tsa\\base\\tsa_model.py:159: ValueWarning: No frequency information was provided, so inferred frequency MS will be used.\n",
      "  warnings.warn('No frequency information was'\n",
      "C:\\Users\\veron\\anaconda3\\lib\\site-packages\\statsmodels\\tsa\\base\\tsa_model.py:159: ValueWarning: No frequency information was provided, so inferred frequency MS will be used.\n",
      "  warnings.warn('No frequency information was'\n"
     ]
    }
   ],
   "source": [
    "model_final = ARIMA(dane_zagregowane['log_l_przypadkow'], order=(2, 1, 1))\n",
    "model_final_fit = model_final.fit()\n",
    "print(model_final_fit.summary())"
   ]
  },
  {
   "cell_type": "code",
   "execution_count": 82,
   "metadata": {},
   "outputs": [
    {
     "data": {
      "text/plain": [
       "26765.0"
      ]
     },
     "execution_count": 82,
     "metadata": {},
     "output_type": "execute_result"
    }
   ],
   "source": [
    "test_forecast = model_final_fit.get_forecast(steps=1)\n",
    "round(math.exp(test_forecast.predicted_mean[0]),0)"
   ]
  },
  {
   "cell_type": "code",
   "execution_count": 83,
   "metadata": {},
   "outputs": [],
   "source": [
    "aa = pd.DataFrame({'liczba_przypadkow': [round(math.exp(test_forecast.predicted_mean[0]),0)], 'mies_i_rok':['2023-12']})\n"
   ]
  },
  {
   "cell_type": "code",
   "execution_count": 84,
   "metadata": {},
   "outputs": [
    {
     "data": {
      "text/html": [
       "<div>\n",
       "<style scoped>\n",
       "    .dataframe tbody tr th:only-of-type {\n",
       "        vertical-align: middle;\n",
       "    }\n",
       "\n",
       "    .dataframe tbody tr th {\n",
       "        vertical-align: top;\n",
       "    }\n",
       "\n",
       "    .dataframe thead th {\n",
       "        text-align: right;\n",
       "    }\n",
       "</style>\n",
       "<table border=\"1\" class=\"dataframe\">\n",
       "  <thead>\n",
       "    <tr style=\"text-align: right;\">\n",
       "      <th></th>\n",
       "      <th>liczba_przypadkow</th>\n",
       "    </tr>\n",
       "    <tr>\n",
       "      <th>mies_i_rok</th>\n",
       "      <th></th>\n",
       "    </tr>\n",
       "  </thead>\n",
       "  <tbody>\n",
       "    <tr>\n",
       "      <th>2023-12</th>\n",
       "      <td>26765.0</td>\n",
       "    </tr>\n",
       "  </tbody>\n",
       "</table>\n",
       "</div>"
      ],
      "text/plain": [
       "            liczba_przypadkow\n",
       "mies_i_rok                   \n",
       "2023-12               26765.0"
      ]
     },
     "execution_count": 84,
     "metadata": {},
     "output_type": "execute_result"
    }
   ],
   "source": [
    "aa.set_index('mies_i_rok', inplace=True)\n",
    "aa\n",
    "#Prognoza na grudzień wynosi 26765.0"
   ]
  },
  {
   "cell_type": "code",
   "execution_count": 85,
   "metadata": {},
   "outputs": [
    {
     "data": {
      "text/plain": [
       "[<matplotlib.lines.Line2D at 0x20813b74d60>]"
      ]
     },
     "execution_count": 85,
     "metadata": {},
     "output_type": "execute_result"
    },
    {
     "data": {
      "image/png": "[encoded data removed]",
      "text/plain": [
       "<Figure size 1008x504 with 1 Axes>"
      ]
     },
     "metadata": {
      "needs_background": "light"
     },
     "output_type": "display_data"
    }
   ],
   "source": [
    "# Pokazanie prognozy na grudzień na wykresie\n",
    "plt.figure(figsize=(14,7))\n",
    "plt.plot(dane_zagregowane['liczba_przypadkow'], label='Training Data')\n",
    "plt.plot(aa['liczba_przypadkow'], marker='o', label='Forecasted Data', color='green')\n"
   ]
  }
 ],
 "metadata": {
  "kernelspec": {
   "display_name": "Python 3 (ipykernel)",
   "language": "python",
   "name": "python3"
  },
  "language_info": {
   "codemirror_mode": {
    "name": "ipython",
    "version": 3
   },
   "file_extension": ".py",
   "mimetype": "text/x-python",
   "name": "python",
   "nbconvert_exporter": "python",
   "pygments_lexer": "ipython3",
   "version": "3.8.18"
  }
 },
 "nbformat": 4,
 "nbformat_minor": 4
}
